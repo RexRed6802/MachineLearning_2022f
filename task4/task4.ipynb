{
 "cells": [
  {
   "cell_type": "code",
   "execution_count": 1,
   "metadata": {
    "id": "nI9E_ZktuDfO"
   },
   "outputs": [],
   "source": [
    "import numpy as np\n",
    "import pandas as pd\n",
    "import matplotlib.pyplot as plt\n",
    "import sklearn\n",
    "from sklearn.metrics import confusion_matrix\n",
    "from sklearn.model_selection import train_test_split\n",
    "from sklearn.preprocessing import StandardScaler\n",
    "from sklearn.tree import DecisionTreeRegressor\n",
    "from sklearn.ensemble import RandomForestRegressor\n",
    "from sklearn.neighbors import KNeighborsRegressor\n",
    "from sklearn.experimental import enable_iterative_imputer\n",
    "from sklearn.impute import IterativeImputer"
   ]
  },
  {
   "cell_type": "code",
   "execution_count": 2,
   "metadata": {
    "id": "M1dmBNjIFJYD"
   },
   "outputs": [],
   "source": [
    "col = ['feature2','feature3','feature7','class']\n"
   ]
  },
  {
   "cell_type": "markdown",
   "metadata": {
    "id": "SA2dGeM9Z1HA"
   },
   "source": [
    "# Data input"
   ]
  },
  {
   "cell_type": "code",
   "execution_count": 3,
   "metadata": {
    "id": "-aHiM8sQucC_"
   },
   "outputs": [],
   "source": [
    "train_data = pd.read_csv(\"./data/train_dec08_task4_missing.csv\")\n",
    "sup_data = pd.read_csv(\"./data/train_dec10_task4_missing_supplement.csv\")\n",
    "test_data = pd.read_csv(\"./data/test_dec08_task4_missing_only_features.csv\")"
   ]
  },
  {
   "cell_type": "code",
   "execution_count": 4,
   "metadata": {
    "id": "iu6e76m-3BjC"
   },
   "outputs": [],
   "source": [
    "train_data = train_data[col].copy()\n",
    "sup_data = sup_data[col].copy()\n",
    "train_data = train_data.dropna()\n",
    "sup_data = sup_data.dropna()"
   ]
  },
  {
   "cell_type": "code",
   "execution_count": 5,
   "metadata": {
    "colab": {
     "base_uri": "https://localhost:8080/",
     "height": 328
    },
    "id": "EhXXv1qD_hgr",
    "outputId": "f502945a-71d5-4975-c6f2-bf58218d3a68"
   },
   "outputs": [
    {
     "data": {
      "text/html": [
       "<div>\n",
       "<style scoped>\n",
       "    .dataframe tbody tr th:only-of-type {\n",
       "        vertical-align: middle;\n",
       "    }\n",
       "\n",
       "    .dataframe tbody tr th {\n",
       "        vertical-align: top;\n",
       "    }\n",
       "\n",
       "    .dataframe thead th {\n",
       "        text-align: right;\n",
       "    }\n",
       "</style>\n",
       "<table border=\"1\" class=\"dataframe\">\n",
       "  <thead>\n",
       "    <tr style=\"text-align: right;\">\n",
       "      <th></th>\n",
       "      <th>feature2</th>\n",
       "      <th>feature3</th>\n",
       "      <th>feature7</th>\n",
       "      <th>class</th>\n",
       "    </tr>\n",
       "  </thead>\n",
       "  <tbody>\n",
       "    <tr>\n",
       "      <th>1</th>\n",
       "      <td>20.176954</td>\n",
       "      <td>15.535818</td>\n",
       "      <td>8.334131</td>\n",
       "      <td>A</td>\n",
       "    </tr>\n",
       "    <tr>\n",
       "      <th>2</th>\n",
       "      <td>19.973465</td>\n",
       "      <td>15.704548</td>\n",
       "      <td>4.626235</td>\n",
       "      <td>A</td>\n",
       "    </tr>\n",
       "    <tr>\n",
       "      <th>3</th>\n",
       "      <td>7.418786</td>\n",
       "      <td>7.192065</td>\n",
       "      <td>7.834803</td>\n",
       "      <td>A</td>\n",
       "    </tr>\n",
       "    <tr>\n",
       "      <th>4</th>\n",
       "      <td>20.001505</td>\n",
       "      <td>17.789371</td>\n",
       "      <td>5.797457</td>\n",
       "      <td>A</td>\n",
       "    </tr>\n",
       "    <tr>\n",
       "      <th>5</th>\n",
       "      <td>10.191896</td>\n",
       "      <td>16.274527</td>\n",
       "      <td>7.492501</td>\n",
       "      <td>A</td>\n",
       "    </tr>\n",
       "    <tr>\n",
       "      <th>6</th>\n",
       "      <td>23.788850</td>\n",
       "      <td>16.358599</td>\n",
       "      <td>9.937226</td>\n",
       "      <td>A</td>\n",
       "    </tr>\n",
       "    <tr>\n",
       "      <th>7</th>\n",
       "      <td>19.316132</td>\n",
       "      <td>15.947508</td>\n",
       "      <td>2.176455</td>\n",
       "      <td>A</td>\n",
       "    </tr>\n",
       "    <tr>\n",
       "      <th>8</th>\n",
       "      <td>28.216307</td>\n",
       "      <td>19.733914</td>\n",
       "      <td>9.570840</td>\n",
       "      <td>A</td>\n",
       "    </tr>\n",
       "    <tr>\n",
       "      <th>9</th>\n",
       "      <td>10.354382</td>\n",
       "      <td>9.882882</td>\n",
       "      <td>9.736760</td>\n",
       "      <td>A</td>\n",
       "    </tr>\n",
       "  </tbody>\n",
       "</table>\n",
       "</div>"
      ],
      "text/plain": [
       "    feature2   feature3  feature7 class\n",
       "1  20.176954  15.535818  8.334131     A\n",
       "2  19.973465  15.704548  4.626235     A\n",
       "3   7.418786   7.192065  7.834803     A\n",
       "4  20.001505  17.789371  5.797457     A\n",
       "5  10.191896  16.274527  7.492501     A\n",
       "6  23.788850  16.358599  9.937226     A\n",
       "7  19.316132  15.947508  2.176455     A\n",
       "8  28.216307  19.733914  9.570840     A\n",
       "9  10.354382   9.882882  9.736760     A"
      ]
     },
     "execution_count": 5,
     "metadata": {},
     "output_type": "execute_result"
    }
   ],
   "source": [
    "sup_data.iloc[1:10]"
   ]
  },
  {
   "cell_type": "code",
   "execution_count": 6,
   "metadata": {
    "colab": {
     "base_uri": "https://localhost:8080/"
    },
    "id": "xkr2kLsboxS8",
    "outputId": "095b9da5-0b33-4942-c3e1-3c01c205ed92"
   },
   "outputs": [
    {
     "name": "stdout",
     "output_type": "stream",
     "text": [
      "<class 'pandas.core.frame.DataFrame'>\n",
      "Int64Index: 6106 entries, 0 to 6498\n",
      "Data columns (total 4 columns):\n",
      " #   Column    Non-Null Count  Dtype  \n",
      "---  ------    --------------  -----  \n",
      " 0   feature2  6106 non-null   float64\n",
      " 1   feature3  6106 non-null   float64\n",
      " 2   feature7  6106 non-null   float64\n",
      " 3   class     6106 non-null   object \n",
      "dtypes: float64(3), object(1)\n",
      "memory usage: 238.5+ KB\n"
     ]
    }
   ],
   "source": [
    "sup_data.info()"
   ]
  },
  {
   "cell_type": "code",
   "execution_count": 7,
   "metadata": {
    "colab": {
     "base_uri": "https://localhost:8080/"
    },
    "id": "jx9nKl5P3Gq7",
    "outputId": "65611506-d1af-40e4-d16a-f36757bc6ba3"
   },
   "outputs": [
    {
     "data": {
      "text/plain": [
       "C    2104\n",
       "B    1663\n",
       "A     839\n",
       "D     828\n",
       "Name: class, dtype: int64"
      ]
     },
     "execution_count": 7,
     "metadata": {},
     "output_type": "execute_result"
    }
   ],
   "source": [
    "train_data['class'].value_counts()"
   ]
  },
  {
   "cell_type": "code",
   "execution_count": 8,
   "metadata": {
    "id": "7jSOc0gTo5wa"
   },
   "outputs": [],
   "source": [
    "train_data = pd.concat([train_data, sup_data])"
   ]
  },
  {
   "cell_type": "code",
   "execution_count": 9,
   "metadata": {
    "id": "f76OgajrVVhU"
   },
   "outputs": [],
   "source": [
    "#train_data = train_data.reset_index()"
   ]
  },
  {
   "cell_type": "code",
   "execution_count": 10,
   "metadata": {
    "colab": {
     "base_uri": "https://localhost:8080/"
    },
    "id": "aSX62WMSrJZX",
    "outputId": "b5e25151-0a42-425c-e9cf-f44e084bf202"
   },
   "outputs": [
    {
     "data": {
      "text/plain": [
       "C    4455\n",
       "B    3544\n",
       "A    1782\n",
       "D    1759\n",
       "Name: class, dtype: int64"
      ]
     },
     "execution_count": 10,
     "metadata": {},
     "output_type": "execute_result"
    }
   ],
   "source": [
    "train_data['class'].value_counts()"
   ]
  },
  {
   "cell_type": "markdown",
   "metadata": {
    "id": "kvOYffa8TCVD"
   },
   "source": [
    "# Imputator\n",
    "\n",
    "# 效果不好 所以選擇把missing value drop掉"
   ]
  },
  {
   "cell_type": "code",
   "execution_count": 11,
   "metadata": {
    "id": "vtKQZfsyTTy1"
   },
   "outputs": [],
   "source": [
    "#impute = IterativeImputer(estimator=KNeighborsRegressor(n_neighbors = 3), random_state=0)\n",
    "#impute.fit(train_data[['feature2','feature3','feature4']])\n",
    "#features = impute.transform(train_data[['feature2','feature3','feature4']])"
   ]
  },
  {
   "cell_type": "code",
   "execution_count": 12,
   "metadata": {
    "id": "ioUrcxEXTjx-"
   },
   "outputs": [],
   "source": [
    "#features = pd.DataFrame(data = features, columns = ['feature2','feature3','feature4'])"
   ]
  },
  {
   "cell_type": "code",
   "execution_count": 13,
   "metadata": {
    "id": "fr4EtxzbVIK6"
   },
   "outputs": [],
   "source": [
    "#features"
   ]
  },
  {
   "cell_type": "code",
   "execution_count": 14,
   "metadata": {
    "id": "2GiLiekKVKDg"
   },
   "outputs": [],
   "source": [
    "#train_data[['class']]"
   ]
  },
  {
   "cell_type": "code",
   "execution_count": 15,
   "metadata": {
    "id": "8D_qnBAxUO9F"
   },
   "outputs": [],
   "source": [
    "\n",
    "#train_data = pd.concat([features[['feature2','feature3','feature4']],train_data[['class']]], axis = 1)"
   ]
  },
  {
   "cell_type": "code",
   "execution_count": 16,
   "metadata": {
    "id": "JgfKh-MqUw4k"
   },
   "outputs": [],
   "source": [
    "#train_data"
   ]
  },
  {
   "cell_type": "markdown",
   "metadata": {
    "id": "V8bZp8ERTkEB"
   },
   "source": [
    "# Downsampling\n",
    "取各1700個data"
   ]
  },
  {
   "cell_type": "code",
   "execution_count": 17,
   "metadata": {
    "id": "5rcLw7bLTzmR"
   },
   "outputs": [],
   "source": [
    "x = pd.DataFrame(data = None, columns= train_data.columns)"
   ]
  },
  {
   "cell_type": "code",
   "execution_count": 19,
   "metadata": {
    "id": "UagXrMsEyP2b"
   },
   "outputs": [],
   "source": [
    "from sklearn.utils import resample\n",
    "classifications = ['A','D','B','C']\n",
    "np1 = np.array([])\n",
    "for c in classifications:\n",
    "  np1 = np.append(np1,(resample(train_data[train_data['class'] == c],\n",
    "             replace=False,\n",
    "             n_samples=1700,\n",
    "             random_state=42)))\n",
    "#np1 = np.append(np1,np.array(train_data[train_data['class'] == 'A']))\n",
    "#np1 = np.append(np1,np.array(train_data[train_data['class'] == 'D']))\n",
    "x = pd.DataFrame(data = np1.reshape(int(27200/4),4), columns= train_data.columns)\n",
    "#x.append([train_data[train_data['class'] == 'A'],train_data[train_data['class'] == 'D']])\n"
   ]
  },
  {
   "cell_type": "code",
   "execution_count": 20,
   "metadata": {
    "colab": {
     "base_uri": "https://localhost:8080/",
     "height": 419
    },
    "id": "8CiumpI7CdHL",
    "outputId": "63d91c26-52ea-496e-e4cc-07e1774fd7c0"
   },
   "outputs": [
    {
     "data": {
      "text/html": [
       "<div>\n",
       "<style scoped>\n",
       "    .dataframe tbody tr th:only-of-type {\n",
       "        vertical-align: middle;\n",
       "    }\n",
       "\n",
       "    .dataframe tbody tr th {\n",
       "        vertical-align: top;\n",
       "    }\n",
       "\n",
       "    .dataframe thead th {\n",
       "        text-align: right;\n",
       "    }\n",
       "</style>\n",
       "<table border=\"1\" class=\"dataframe\">\n",
       "  <thead>\n",
       "    <tr style=\"text-align: right;\">\n",
       "      <th></th>\n",
       "      <th>feature2</th>\n",
       "      <th>feature3</th>\n",
       "      <th>feature7</th>\n",
       "      <th>class</th>\n",
       "    </tr>\n",
       "  </thead>\n",
       "  <tbody>\n",
       "    <tr>\n",
       "      <th>0</th>\n",
       "      <td>16.816507</td>\n",
       "      <td>21.232858</td>\n",
       "      <td>5.683259</td>\n",
       "      <td>A</td>\n",
       "    </tr>\n",
       "    <tr>\n",
       "      <th>1</th>\n",
       "      <td>11.519243</td>\n",
       "      <td>15.446547</td>\n",
       "      <td>4.359459</td>\n",
       "      <td>A</td>\n",
       "    </tr>\n",
       "    <tr>\n",
       "      <th>2</th>\n",
       "      <td>10.314918</td>\n",
       "      <td>22.960186</td>\n",
       "      <td>4.591183</td>\n",
       "      <td>A</td>\n",
       "    </tr>\n",
       "    <tr>\n",
       "      <th>3</th>\n",
       "      <td>16.141004</td>\n",
       "      <td>21.075877</td>\n",
       "      <td>8.108052</td>\n",
       "      <td>A</td>\n",
       "    </tr>\n",
       "    <tr>\n",
       "      <th>4</th>\n",
       "      <td>6.931165</td>\n",
       "      <td>13.423816</td>\n",
       "      <td>1.12463</td>\n",
       "      <td>A</td>\n",
       "    </tr>\n",
       "    <tr>\n",
       "      <th>...</th>\n",
       "      <td>...</td>\n",
       "      <td>...</td>\n",
       "      <td>...</td>\n",
       "      <td>...</td>\n",
       "    </tr>\n",
       "    <tr>\n",
       "      <th>6795</th>\n",
       "      <td>13.332396</td>\n",
       "      <td>18.462377</td>\n",
       "      <td>1.242204</td>\n",
       "      <td>C</td>\n",
       "    </tr>\n",
       "    <tr>\n",
       "      <th>6796</th>\n",
       "      <td>16.320013</td>\n",
       "      <td>18.704451</td>\n",
       "      <td>6.787509</td>\n",
       "      <td>C</td>\n",
       "    </tr>\n",
       "    <tr>\n",
       "      <th>6797</th>\n",
       "      <td>13.366113</td>\n",
       "      <td>14.296811</td>\n",
       "      <td>9.239785</td>\n",
       "      <td>C</td>\n",
       "    </tr>\n",
       "    <tr>\n",
       "      <th>6798</th>\n",
       "      <td>13.344825</td>\n",
       "      <td>30.027203</td>\n",
       "      <td>1.191801</td>\n",
       "      <td>C</td>\n",
       "    </tr>\n",
       "    <tr>\n",
       "      <th>6799</th>\n",
       "      <td>10.161185</td>\n",
       "      <td>22.853532</td>\n",
       "      <td>3.376492</td>\n",
       "      <td>C</td>\n",
       "    </tr>\n",
       "  </tbody>\n",
       "</table>\n",
       "<p>6800 rows × 4 columns</p>\n",
       "</div>"
      ],
      "text/plain": [
       "       feature2   feature3  feature7 class\n",
       "0     16.816507  21.232858  5.683259     A\n",
       "1     11.519243  15.446547  4.359459     A\n",
       "2     10.314918  22.960186  4.591183     A\n",
       "3     16.141004  21.075877  8.108052     A\n",
       "4      6.931165  13.423816   1.12463     A\n",
       "...         ...        ...       ...   ...\n",
       "6795  13.332396  18.462377  1.242204     C\n",
       "6796  16.320013  18.704451  6.787509     C\n",
       "6797  13.366113  14.296811  9.239785     C\n",
       "6798  13.344825  30.027203  1.191801     C\n",
       "6799  10.161185  22.853532  3.376492     C\n",
       "\n",
       "[6800 rows x 4 columns]"
      ]
     },
     "execution_count": 20,
     "metadata": {},
     "output_type": "execute_result"
    }
   ],
   "source": [
    "x"
   ]
  },
  {
   "cell_type": "code",
   "execution_count": 21,
   "metadata": {
    "colab": {
     "base_uri": "https://localhost:8080/"
    },
    "id": "xJJVDo_f8hbq",
    "outputId": "5cae4ce6-39d3-4f2e-e9fd-f0aaab167046"
   },
   "outputs": [
    {
     "data": {
      "text/plain": [
       "A    1700\n",
       "D    1700\n",
       "B    1700\n",
       "C    1700\n",
       "Name: class, dtype: int64"
      ]
     },
     "execution_count": 21,
     "metadata": {},
     "output_type": "execute_result"
    }
   ],
   "source": [
    "x['class'].value_counts()"
   ]
  },
  {
   "cell_type": "code",
   "execution_count": 22,
   "metadata": {
    "id": "-m04y4XhwcNR"
   },
   "outputs": [],
   "source": [
    "X = x[col[:-1]]\n",
    "y = x['class']"
   ]
  },
  {
   "cell_type": "code",
   "execution_count": 23,
   "metadata": {
    "id": "RToMjjT4-qfY"
   },
   "outputs": [],
   "source": [
    "from sklearn import preprocessing\n",
    "#zscore = preprocessing.StandardScaler()\n",
    "std = preprocessing.StandardScaler()\n",
    "X = std.fit_transform(X)\n",
    "t = std.fit_transform(pd.concat([test_data[col[:-1]]], axis =1))"
   ]
  },
  {
   "cell_type": "code",
   "execution_count": 24,
   "metadata": {
    "id": "Z9OzWKpyE4if"
   },
   "outputs": [],
   "source": [
    "temp = pd.DataFrame(data = X, columns = col[:-1])"
   ]
  },
  {
   "cell_type": "code",
   "execution_count": 25,
   "metadata": {
    "id": "vGM0Xgw-FSkr"
   },
   "outputs": [],
   "source": [
    "temp = pd.concat([temp,y],axis = 1)"
   ]
  },
  {
   "cell_type": "code",
   "execution_count": 26,
   "metadata": {
    "colab": {
     "base_uri": "https://localhost:8080/",
     "height": 419
    },
    "id": "dWxUy1N7GWCI",
    "outputId": "84a12b94-fabd-4f1c-abbf-db5c47a0e004"
   },
   "outputs": [
    {
     "data": {
      "text/html": [
       "<div>\n",
       "<style scoped>\n",
       "    .dataframe tbody tr th:only-of-type {\n",
       "        vertical-align: middle;\n",
       "    }\n",
       "\n",
       "    .dataframe tbody tr th {\n",
       "        vertical-align: top;\n",
       "    }\n",
       "\n",
       "    .dataframe thead th {\n",
       "        text-align: right;\n",
       "    }\n",
       "</style>\n",
       "<table border=\"1\" class=\"dataframe\">\n",
       "  <thead>\n",
       "    <tr style=\"text-align: right;\">\n",
       "      <th></th>\n",
       "      <th>feature2</th>\n",
       "      <th>feature3</th>\n",
       "      <th>feature7</th>\n",
       "      <th>class</th>\n",
       "    </tr>\n",
       "  </thead>\n",
       "  <tbody>\n",
       "    <tr>\n",
       "      <th>0</th>\n",
       "      <td>-0.054726</td>\n",
       "      <td>0.898473</td>\n",
       "      <td>0.259151</td>\n",
       "      <td>A</td>\n",
       "    </tr>\n",
       "    <tr>\n",
       "      <th>1</th>\n",
       "      <td>-0.892207</td>\n",
       "      <td>-0.098390</td>\n",
       "      <td>-0.234447</td>\n",
       "      <td>A</td>\n",
       "    </tr>\n",
       "    <tr>\n",
       "      <th>2</th>\n",
       "      <td>-1.082607</td>\n",
       "      <td>1.196056</td>\n",
       "      <td>-0.148046</td>\n",
       "      <td>A</td>\n",
       "    </tr>\n",
       "    <tr>\n",
       "      <th>3</th>\n",
       "      <td>-0.161521</td>\n",
       "      <td>0.871429</td>\n",
       "      <td>1.163271</td>\n",
       "      <td>A</td>\n",
       "    </tr>\n",
       "    <tr>\n",
       "      <th>4</th>\n",
       "      <td>-1.617568</td>\n",
       "      <td>-0.446865</td>\n",
       "      <td>-1.440602</td>\n",
       "      <td>A</td>\n",
       "    </tr>\n",
       "    <tr>\n",
       "      <th>...</th>\n",
       "      <td>...</td>\n",
       "      <td>...</td>\n",
       "      <td>...</td>\n",
       "      <td>...</td>\n",
       "    </tr>\n",
       "    <tr>\n",
       "      <th>6795</th>\n",
       "      <td>-0.605553</td>\n",
       "      <td>0.421176</td>\n",
       "      <td>-1.396763</td>\n",
       "      <td>C</td>\n",
       "    </tr>\n",
       "    <tr>\n",
       "      <th>6796</th>\n",
       "      <td>-0.133220</td>\n",
       "      <td>0.462880</td>\n",
       "      <td>0.670887</td>\n",
       "      <td>C</td>\n",
       "    </tr>\n",
       "    <tr>\n",
       "      <th>6797</th>\n",
       "      <td>-0.600223</td>\n",
       "      <td>-0.296466</td>\n",
       "      <td>1.585255</td>\n",
       "      <td>C</td>\n",
       "    </tr>\n",
       "    <tr>\n",
       "      <th>6798</th>\n",
       "      <td>-0.603588</td>\n",
       "      <td>2.413559</td>\n",
       "      <td>-1.415556</td>\n",
       "      <td>C</td>\n",
       "    </tr>\n",
       "    <tr>\n",
       "      <th>6799</th>\n",
       "      <td>-1.106912</td>\n",
       "      <td>1.177682</td>\n",
       "      <td>-0.600961</td>\n",
       "      <td>C</td>\n",
       "    </tr>\n",
       "  </tbody>\n",
       "</table>\n",
       "<p>6800 rows × 4 columns</p>\n",
       "</div>"
      ],
      "text/plain": [
       "      feature2  feature3  feature7 class\n",
       "0    -0.054726  0.898473  0.259151     A\n",
       "1    -0.892207 -0.098390 -0.234447     A\n",
       "2    -1.082607  1.196056 -0.148046     A\n",
       "3    -0.161521  0.871429  1.163271     A\n",
       "4    -1.617568 -0.446865 -1.440602     A\n",
       "...        ...       ...       ...   ...\n",
       "6795 -0.605553  0.421176 -1.396763     C\n",
       "6796 -0.133220  0.462880  0.670887     C\n",
       "6797 -0.600223 -0.296466  1.585255     C\n",
       "6798 -0.603588  2.413559 -1.415556     C\n",
       "6799 -1.106912  1.177682 -0.600961     C\n",
       "\n",
       "[6800 rows x 4 columns]"
      ]
     },
     "execution_count": 26,
     "metadata": {},
     "output_type": "execute_result"
    }
   ],
   "source": [
    "temp"
   ]
  },
  {
   "cell_type": "markdown",
   "metadata": {
    "id": "6cC7yA5gZp3O"
   },
   "source": [
    "# Outlier detection\n",
    "# 加了反而表現不好"
   ]
  },
  {
   "cell_type": "code",
   "execution_count": 27,
   "metadata": {
    "id": "H4ubpmxZHHZ6"
   },
   "outputs": [],
   "source": [
    "#def outliers(df, ft):\n",
    "#  ls = []\n",
    "#  for c in ['A','B','C','D']:\n",
    "#    Q1 = df[ft].loc[df['class'] == c].quantile(0.25)\n",
    "#    Q3 = df[ft].loc[df['class'] == c].quantile(0.75)\n",
    " #   IQR = Q3 -Q1\n",
    " #   lower_bound = Q1 -1.5 * IQR\n",
    " #   upper_bound = Q3 + 1.5 * IQR\n",
    " #   \n",
    " #   ls.extend(df.index[(df[ft] < lower_bound) | (df[ft] > upper_bound)])\n",
    " #   \n",
    " # return ls"
   ]
  },
  {
   "cell_type": "code",
   "execution_count": 28,
   "metadata": {
    "id": "fxqIZ9LiCrXC"
   },
   "outputs": [],
   "source": [
    "#index_list = []\n",
    "#for feature in ['feature2', 'feature3', 'feature4']:\n",
    "#    index_list.extend(outliers(temp, feature))\n",
    "#  "
   ]
  },
  {
   "cell_type": "code",
   "execution_count": 29,
   "metadata": {
    "id": "B9C8ph2iCvMP"
   },
   "outputs": [],
   "source": [
    "#def remove(df, ls):\n",
    "#    ls = sorted(set(ls))\n",
    "#    df = df.drop(ls)\n",
    "#    return df"
   ]
  },
  {
   "cell_type": "code",
   "execution_count": 30,
   "metadata": {
    "id": "LtKNqkIqC00x"
   },
   "outputs": [],
   "source": [
    "#temp = remove(temp,index_list)"
   ]
  },
  {
   "cell_type": "code",
   "execution_count": 31,
   "metadata": {
    "id": "e3N-SfurHg4X"
   },
   "outputs": [],
   "source": [
    "#temp"
   ]
  },
  {
   "cell_type": "code",
   "execution_count": 32,
   "metadata": {
    "id": "yOk2aUMNMwEm"
   },
   "outputs": [],
   "source": [
    "#temp[['class']]"
   ]
  },
  {
   "cell_type": "markdown",
   "metadata": {
    "id": "oJzBmlr7Zj9-"
   },
   "source": [
    "# Training"
   ]
  },
  {
   "cell_type": "code",
   "execution_count": 33,
   "metadata": {
    "id": "MIbNa5-kxYso"
   },
   "outputs": [],
   "source": [
    "from sklearn.model_selection import train_test_split\n",
    "X_train, X_val, y_train, y_val = train_test_split(temp[col[:-1]], temp[['class']], test_size=0.15, random_state=42)"
   ]
  },
  {
   "cell_type": "code",
   "execution_count": 34,
   "metadata": {
    "colab": {
     "base_uri": "https://localhost:8080/"
    },
    "id": "TKR9eGzkGOwY",
    "outputId": "e9b0fd81-1cba-4205-cd3c-9031135aff28"
   },
   "outputs": [
    {
     "name": "stderr",
     "output_type": "stream",
     "text": [
      "/Users/jonner/opt/anaconda3/lib/python3.9/site-packages/sklearn/utils/validation.py:1111: DataConversionWarning: A column-vector y was passed when a 1d array was expected. Please change the shape of y to (n_samples, ), for example using ravel().\n",
      "  y = column_or_1d(y, warn=True)\n"
     ]
    },
    {
     "data": {
      "text/html": [
       "<style>#sk-container-id-1 {color: black;background-color: white;}#sk-container-id-1 pre{padding: 0;}#sk-container-id-1 div.sk-toggleable {background-color: white;}#sk-container-id-1 label.sk-toggleable__label {cursor: pointer;display: block;width: 100%;margin-bottom: 0;padding: 0.3em;box-sizing: border-box;text-align: center;}#sk-container-id-1 label.sk-toggleable__label-arrow:before {content: \"▸\";float: left;margin-right: 0.25em;color: #696969;}#sk-container-id-1 label.sk-toggleable__label-arrow:hover:before {color: black;}#sk-container-id-1 div.sk-estimator:hover label.sk-toggleable__label-arrow:before {color: black;}#sk-container-id-1 div.sk-toggleable__content {max-height: 0;max-width: 0;overflow: hidden;text-align: left;background-color: #f0f8ff;}#sk-container-id-1 div.sk-toggleable__content pre {margin: 0.2em;color: black;border-radius: 0.25em;background-color: #f0f8ff;}#sk-container-id-1 input.sk-toggleable__control:checked~div.sk-toggleable__content {max-height: 200px;max-width: 100%;overflow: auto;}#sk-container-id-1 input.sk-toggleable__control:checked~label.sk-toggleable__label-arrow:before {content: \"▾\";}#sk-container-id-1 div.sk-estimator input.sk-toggleable__control:checked~label.sk-toggleable__label {background-color: #d4ebff;}#sk-container-id-1 div.sk-label input.sk-toggleable__control:checked~label.sk-toggleable__label {background-color: #d4ebff;}#sk-container-id-1 input.sk-hidden--visually {border: 0;clip: rect(1px 1px 1px 1px);clip: rect(1px, 1px, 1px, 1px);height: 1px;margin: -1px;overflow: hidden;padding: 0;position: absolute;width: 1px;}#sk-container-id-1 div.sk-estimator {font-family: monospace;background-color: #f0f8ff;border: 1px dotted black;border-radius: 0.25em;box-sizing: border-box;margin-bottom: 0.5em;}#sk-container-id-1 div.sk-estimator:hover {background-color: #d4ebff;}#sk-container-id-1 div.sk-parallel-item::after {content: \"\";width: 100%;border-bottom: 1px solid gray;flex-grow: 1;}#sk-container-id-1 div.sk-label:hover label.sk-toggleable__label {background-color: #d4ebff;}#sk-container-id-1 div.sk-serial::before {content: \"\";position: absolute;border-left: 1px solid gray;box-sizing: border-box;top: 0;bottom: 0;left: 50%;z-index: 0;}#sk-container-id-1 div.sk-serial {display: flex;flex-direction: column;align-items: center;background-color: white;padding-right: 0.2em;padding-left: 0.2em;position: relative;}#sk-container-id-1 div.sk-item {position: relative;z-index: 1;}#sk-container-id-1 div.sk-parallel {display: flex;align-items: stretch;justify-content: center;background-color: white;position: relative;}#sk-container-id-1 div.sk-item::before, #sk-container-id-1 div.sk-parallel-item::before {content: \"\";position: absolute;border-left: 1px solid gray;box-sizing: border-box;top: 0;bottom: 0;left: 50%;z-index: -1;}#sk-container-id-1 div.sk-parallel-item {display: flex;flex-direction: column;z-index: 1;position: relative;background-color: white;}#sk-container-id-1 div.sk-parallel-item:first-child::after {align-self: flex-end;width: 50%;}#sk-container-id-1 div.sk-parallel-item:last-child::after {align-self: flex-start;width: 50%;}#sk-container-id-1 div.sk-parallel-item:only-child::after {width: 0;}#sk-container-id-1 div.sk-dashed-wrapped {border: 1px dashed gray;margin: 0 0.4em 0.5em 0.4em;box-sizing: border-box;padding-bottom: 0.4em;background-color: white;}#sk-container-id-1 div.sk-label label {font-family: monospace;font-weight: bold;display: inline-block;line-height: 1.2em;}#sk-container-id-1 div.sk-label-container {text-align: center;}#sk-container-id-1 div.sk-container {/* jupyter's `normalize.less` sets `[hidden] { display: none; }` but bootstrap.min.css set `[hidden] { display: none !important; }` so we also need the `!important` here to be able to override the default hidden behavior on the sphinx rendered scikit-learn.org. See: https://github.com/scikit-learn/scikit-learn/issues/21755 */display: inline-block !important;position: relative;}#sk-container-id-1 div.sk-text-repr-fallback {display: none;}</style><div id=\"sk-container-id-1\" class=\"sk-top-container\"><div class=\"sk-text-repr-fallback\"><pre>LogisticRegression(random_state=42)</pre><b>In a Jupyter environment, please rerun this cell to show the HTML representation or trust the notebook. <br />On GitHub, the HTML representation is unable to render, please try loading this page with nbviewer.org.</b></div><div class=\"sk-container\" hidden><div class=\"sk-item\"><div class=\"sk-estimator sk-toggleable\"><input class=\"sk-toggleable__control sk-hidden--visually\" id=\"sk-estimator-id-1\" type=\"checkbox\" checked><label for=\"sk-estimator-id-1\" class=\"sk-toggleable__label sk-toggleable__label-arrow\">LogisticRegression</label><div class=\"sk-toggleable__content\"><pre>LogisticRegression(random_state=42)</pre></div></div></div></div></div>"
      ],
      "text/plain": [
       "LogisticRegression(random_state=42)"
      ]
     },
     "execution_count": 34,
     "metadata": {},
     "output_type": "execute_result"
    }
   ],
   "source": [
    "from sklearn.linear_model import LogisticRegression\n",
    "lgr = LogisticRegression(random_state = 42)\n",
    "lgr.fit(X_train, y_train)"
   ]
  },
  {
   "cell_type": "code",
   "execution_count": 35,
   "metadata": {
    "colab": {
     "base_uri": "https://localhost:8080/"
    },
    "id": "9GJJPPT5M77r",
    "outputId": "094a861a-5d13-45d0-8ada-2383b9401064"
   },
   "outputs": [
    {
     "name": "stdout",
     "output_type": "stream",
     "text": [
      "[0.38235294 0.3627451  0.39215686 0.34803922 0.36764706]\n",
      "0.37058823529411766\n"
     ]
    },
    {
     "name": "stderr",
     "output_type": "stream",
     "text": [
      "/Users/jonner/opt/anaconda3/lib/python3.9/site-packages/sklearn/utils/validation.py:1111: DataConversionWarning: A column-vector y was passed when a 1d array was expected. Please change the shape of y to (n_samples, ), for example using ravel().\n",
      "  y = column_or_1d(y, warn=True)\n",
      "/Users/jonner/opt/anaconda3/lib/python3.9/site-packages/sklearn/utils/validation.py:1111: DataConversionWarning: A column-vector y was passed when a 1d array was expected. Please change the shape of y to (n_samples, ), for example using ravel().\n",
      "  y = column_or_1d(y, warn=True)\n",
      "/Users/jonner/opt/anaconda3/lib/python3.9/site-packages/sklearn/utils/validation.py:1111: DataConversionWarning: A column-vector y was passed when a 1d array was expected. Please change the shape of y to (n_samples, ), for example using ravel().\n",
      "  y = column_or_1d(y, warn=True)\n",
      "/Users/jonner/opt/anaconda3/lib/python3.9/site-packages/sklearn/utils/validation.py:1111: DataConversionWarning: A column-vector y was passed when a 1d array was expected. Please change the shape of y to (n_samples, ), for example using ravel().\n",
      "  y = column_or_1d(y, warn=True)\n",
      "/Users/jonner/opt/anaconda3/lib/python3.9/site-packages/sklearn/utils/validation.py:1111: DataConversionWarning: A column-vector y was passed when a 1d array was expected. Please change the shape of y to (n_samples, ), for example using ravel().\n",
      "  y = column_or_1d(y, warn=True)\n"
     ]
    }
   ],
   "source": [
    "from sklearn.model_selection import cross_validate\n",
    "scores = cross_validate(lgr,X_val,y_val,cv=5,scoring='accuracy')\n",
    "print(scores.get('test_score'))\n",
    "print(np.sum(scores.get('test_score'))/5)"
   ]
  },
  {
   "cell_type": "code",
   "execution_count": 36,
   "metadata": {
    "colab": {
     "base_uri": "https://localhost:8080/"
    },
    "id": "ML_KYoqKDm6C",
    "outputId": "3266a1f5-b827-420f-c28c-bddc0b39fd80"
   },
   "outputs": [
    {
     "name": "stderr",
     "output_type": "stream",
     "text": [
      "/var/folders/8s/2rgq66zj4q7bpsf8g93fj0bh0000gn/T/ipykernel_8396/2217275760.py:3: DataConversionWarning: A column-vector y was passed when a 1d array was expected. Please change the shape of y to (n_samples,), for example using ravel().\n",
      "  clf.fit(X_train, y_train)\n"
     ]
    },
    {
     "data": {
      "text/html": [
       "<style>#sk-container-id-2 {color: black;background-color: white;}#sk-container-id-2 pre{padding: 0;}#sk-container-id-2 div.sk-toggleable {background-color: white;}#sk-container-id-2 label.sk-toggleable__label {cursor: pointer;display: block;width: 100%;margin-bottom: 0;padding: 0.3em;box-sizing: border-box;text-align: center;}#sk-container-id-2 label.sk-toggleable__label-arrow:before {content: \"▸\";float: left;margin-right: 0.25em;color: #696969;}#sk-container-id-2 label.sk-toggleable__label-arrow:hover:before {color: black;}#sk-container-id-2 div.sk-estimator:hover label.sk-toggleable__label-arrow:before {color: black;}#sk-container-id-2 div.sk-toggleable__content {max-height: 0;max-width: 0;overflow: hidden;text-align: left;background-color: #f0f8ff;}#sk-container-id-2 div.sk-toggleable__content pre {margin: 0.2em;color: black;border-radius: 0.25em;background-color: #f0f8ff;}#sk-container-id-2 input.sk-toggleable__control:checked~div.sk-toggleable__content {max-height: 200px;max-width: 100%;overflow: auto;}#sk-container-id-2 input.sk-toggleable__control:checked~label.sk-toggleable__label-arrow:before {content: \"▾\";}#sk-container-id-2 div.sk-estimator input.sk-toggleable__control:checked~label.sk-toggleable__label {background-color: #d4ebff;}#sk-container-id-2 div.sk-label input.sk-toggleable__control:checked~label.sk-toggleable__label {background-color: #d4ebff;}#sk-container-id-2 input.sk-hidden--visually {border: 0;clip: rect(1px 1px 1px 1px);clip: rect(1px, 1px, 1px, 1px);height: 1px;margin: -1px;overflow: hidden;padding: 0;position: absolute;width: 1px;}#sk-container-id-2 div.sk-estimator {font-family: monospace;background-color: #f0f8ff;border: 1px dotted black;border-radius: 0.25em;box-sizing: border-box;margin-bottom: 0.5em;}#sk-container-id-2 div.sk-estimator:hover {background-color: #d4ebff;}#sk-container-id-2 div.sk-parallel-item::after {content: \"\";width: 100%;border-bottom: 1px solid gray;flex-grow: 1;}#sk-container-id-2 div.sk-label:hover label.sk-toggleable__label {background-color: #d4ebff;}#sk-container-id-2 div.sk-serial::before {content: \"\";position: absolute;border-left: 1px solid gray;box-sizing: border-box;top: 0;bottom: 0;left: 50%;z-index: 0;}#sk-container-id-2 div.sk-serial {display: flex;flex-direction: column;align-items: center;background-color: white;padding-right: 0.2em;padding-left: 0.2em;position: relative;}#sk-container-id-2 div.sk-item {position: relative;z-index: 1;}#sk-container-id-2 div.sk-parallel {display: flex;align-items: stretch;justify-content: center;background-color: white;position: relative;}#sk-container-id-2 div.sk-item::before, #sk-container-id-2 div.sk-parallel-item::before {content: \"\";position: absolute;border-left: 1px solid gray;box-sizing: border-box;top: 0;bottom: 0;left: 50%;z-index: -1;}#sk-container-id-2 div.sk-parallel-item {display: flex;flex-direction: column;z-index: 1;position: relative;background-color: white;}#sk-container-id-2 div.sk-parallel-item:first-child::after {align-self: flex-end;width: 50%;}#sk-container-id-2 div.sk-parallel-item:last-child::after {align-self: flex-start;width: 50%;}#sk-container-id-2 div.sk-parallel-item:only-child::after {width: 0;}#sk-container-id-2 div.sk-dashed-wrapped {border: 1px dashed gray;margin: 0 0.4em 0.5em 0.4em;box-sizing: border-box;padding-bottom: 0.4em;background-color: white;}#sk-container-id-2 div.sk-label label {font-family: monospace;font-weight: bold;display: inline-block;line-height: 1.2em;}#sk-container-id-2 div.sk-label-container {text-align: center;}#sk-container-id-2 div.sk-container {/* jupyter's `normalize.less` sets `[hidden] { display: none; }` but bootstrap.min.css set `[hidden] { display: none !important; }` so we also need the `!important` here to be able to override the default hidden behavior on the sphinx rendered scikit-learn.org. See: https://github.com/scikit-learn/scikit-learn/issues/21755 */display: inline-block !important;position: relative;}#sk-container-id-2 div.sk-text-repr-fallback {display: none;}</style><div id=\"sk-container-id-2\" class=\"sk-top-container\"><div class=\"sk-text-repr-fallback\"><pre>RandomForestClassifier(min_samples_split=10, n_estimators=10)</pre><b>In a Jupyter environment, please rerun this cell to show the HTML representation or trust the notebook. <br />On GitHub, the HTML representation is unable to render, please try loading this page with nbviewer.org.</b></div><div class=\"sk-container\" hidden><div class=\"sk-item\"><div class=\"sk-estimator sk-toggleable\"><input class=\"sk-toggleable__control sk-hidden--visually\" id=\"sk-estimator-id-2\" type=\"checkbox\" checked><label for=\"sk-estimator-id-2\" class=\"sk-toggleable__label sk-toggleable__label-arrow\">RandomForestClassifier</label><div class=\"sk-toggleable__content\"><pre>RandomForestClassifier(min_samples_split=10, n_estimators=10)</pre></div></div></div></div></div>"
      ],
      "text/plain": [
       "RandomForestClassifier(min_samples_split=10, n_estimators=10)"
      ]
     },
     "execution_count": 36,
     "metadata": {},
     "output_type": "execute_result"
    }
   ],
   "source": [
    "from sklearn.ensemble import RandomForestClassifier\n",
    "clf = RandomForestClassifier(n_estimators=10, min_samples_split=10)\n",
    "clf.fit(X_train, y_train)"
   ]
  },
  {
   "cell_type": "code",
   "execution_count": 37,
   "metadata": {
    "colab": {
     "base_uri": "https://localhost:8080/"
    },
    "id": "y-iWCagBDH4u",
    "outputId": "104fb5b0-2ce1-4708-fd6b-048fb7ab551d"
   },
   "outputs": [
    {
     "name": "stderr",
     "output_type": "stream",
     "text": [
      "/Users/jonner/opt/anaconda3/lib/python3.9/site-packages/sklearn/model_selection/_validation.py:686: DataConversionWarning: A column-vector y was passed when a 1d array was expected. Please change the shape of y to (n_samples,), for example using ravel().\n",
      "  estimator.fit(X_train, y_train, **fit_params)\n",
      "/Users/jonner/opt/anaconda3/lib/python3.9/site-packages/sklearn/model_selection/_validation.py:686: DataConversionWarning: A column-vector y was passed when a 1d array was expected. Please change the shape of y to (n_samples,), for example using ravel().\n",
      "  estimator.fit(X_train, y_train, **fit_params)\n",
      "/Users/jonner/opt/anaconda3/lib/python3.9/site-packages/sklearn/model_selection/_validation.py:686: DataConversionWarning: A column-vector y was passed when a 1d array was expected. Please change the shape of y to (n_samples,), for example using ravel().\n",
      "  estimator.fit(X_train, y_train, **fit_params)\n",
      "/Users/jonner/opt/anaconda3/lib/python3.9/site-packages/sklearn/model_selection/_validation.py:686: DataConversionWarning: A column-vector y was passed when a 1d array was expected. Please change the shape of y to (n_samples,), for example using ravel().\n",
      "  estimator.fit(X_train, y_train, **fit_params)\n",
      "/Users/jonner/opt/anaconda3/lib/python3.9/site-packages/sklearn/model_selection/_validation.py:686: DataConversionWarning: A column-vector y was passed when a 1d array was expected. Please change the shape of y to (n_samples,), for example using ravel().\n",
      "  estimator.fit(X_train, y_train, **fit_params)\n"
     ]
    },
    {
     "data": {
      "text/plain": [
       "{'fit_time': array([0.03474593, 0.02243495, 0.01534891, 0.01255894, 0.01216793]),\n",
       " 'score_time': array([0.00446105, 0.00216293, 0.00168204, 0.00144315, 0.00143099]),\n",
       " 'test_score': array([0.33823529, 0.45098039, 0.42156863, 0.34313725, 0.32843137])}"
      ]
     },
     "execution_count": 37,
     "metadata": {},
     "output_type": "execute_result"
    }
   ],
   "source": [
    "scores = cross_validate(clf,X_val,y_val,cv=5,scoring='accuracy')\n",
    "scores"
   ]
  },
  {
   "cell_type": "markdown",
   "metadata": {
    "id": "wqwrquBtGhRW"
   },
   "source": [
    "# Deep Learning"
   ]
  },
  {
   "cell_type": "code",
   "execution_count": 37,
   "metadata": {
    "id": "xKzTBvJ0Gg9x"
   },
   "outputs": [],
   "source": [
    "#from tensorflow.keras.utils import to_categorical\n",
    "#from tensorflow.keras.models import Sequential\n",
    "#from tensorflow.keras.layers import Dense\n",
    "#from tensorflow.keras.optimizers import SGD"
   ]
  },
  {
   "cell_type": "code",
   "execution_count": 38,
   "metadata": {
    "id": "ncsr7BmCGl_0"
   },
   "outputs": [
    {
     "ename": "IndentationError",
     "evalue": "unexpected indent (3370263089.py, line 2)",
     "output_type": "error",
     "traceback": [
      "\u001b[0;36m  File \u001b[0;32m\"/var/folders/8s/2rgq66zj4q7bpsf8g93fj0bh0000gn/T/ipykernel_8337/3370263089.py\"\u001b[0;36m, line \u001b[0;32m2\u001b[0m\n\u001b[0;31m    t = []\u001b[0m\n\u001b[0m    ^\u001b[0m\n\u001b[0;31mIndentationError\u001b[0m\u001b[0;31m:\u001b[0m unexpected indent\n"
     ]
    }
   ],
   "source": [
    "#def toCategory(lst):\n",
    "#  t = []\n",
    "#  for i in range(0,len(lst)):\n",
    "#      k = lst\n",
    "#      if(k[i] == 'A'):\n",
    "#          t.append(0)\n",
    "#      elif(k[i] == 'B'):\n",
    "#          t.append(1)\n",
    "#      elif(k[i] == 'C'):\n",
    "#         t.append(2)\n",
    "#      elif(k[i] == 'D'):\n",
    "#         t.append(3)\n",
    "#  t = to_categorical(t, 4)\n",
    "#  return t;\n",
    "#y = toCategory(np.array(temp[['class']]))"
   ]
  },
  {
   "cell_type": "code",
   "execution_count": null,
   "metadata": {
    "id": "vV82xDfXJK7e"
   },
   "outputs": [],
   "source": [
    "#y"
   ]
  },
  {
   "cell_type": "code",
   "execution_count": null,
   "metadata": {
    "id": "Vh20TUI3HoJE"
   },
   "outputs": [],
   "source": [
    "#from sklearn.model_selection import train_test_split\n",
    "#X_train, X_test, y_train, y_test = train_test_split(temp[col[:-1]], y, test_size=0.15, random_state = 42)"
   ]
  },
  {
   "cell_type": "code",
   "execution_count": null,
   "metadata": {
    "id": "qg2kakM0Hu8S"
   },
   "outputs": [],
   "source": [
    "#model = Sequential()\n",
    "#model.add(Dense(100, input_dim=3, activation='relu'))\n",
    "#model.add(Dense(50, activation='relu'))\n",
    "#\n",
    "#model.add(Dense(4, activation='softmax'))\n",
    "#\n",
    "#model.compile(loss='categorical_crossentropy', optimizer='adam', \n",
    "#              metrics=['accuracy'])"
   ]
  },
  {
   "cell_type": "code",
   "execution_count": null,
   "metadata": {
    "id": "Wwq-FMxTHvos"
   },
   "outputs": [],
   "source": [
    "#model.fit(X_train, y_train, batch_size=33, epochs=20, validation_data=(X_test, y_test))"
   ]
  },
  {
   "cell_type": "markdown",
   "metadata": {},
   "source": [
    "# Output our answer"
   ]
  },
  {
   "cell_type": "code",
   "execution_count": 39,
   "metadata": {
    "id": "NqDo_G3XO6Rg"
   },
   "outputs": [],
   "source": [
    "#要輸出傳統機器學習模型請使用此cell\n",
    "test_data = (pd.DataFrame(t, columns = col[:-1])).fillna(0)\n",
    "#test_data = impute.transform(test_data)\n",
    "#test_data = std.transform(test_data)\n",
    "answer =lgr.predict(test_data)"
   ]
  },
  {
   "cell_type": "code",
   "execution_count": 40,
   "metadata": {
    "id": "L7e9ogTCVkzM"
   },
   "outputs": [],
   "source": [
    "#要輸出深度學習模型請使用此cell\n",
    "#test_data = pd.DataFrame(t, columns = col[:-1]).fillna(0)\n",
    "#answer = np.argmax(model.predict(test_data),axis = -1)"
   ]
  },
  {
   "cell_type": "code",
   "execution_count": 42,
   "metadata": {
    "id": "_iIzV4S1ImR7"
   },
   "outputs": [],
   "source": [
    "#要輸出深度學習模型請使用此cell\n",
    "#ans = []\n",
    "#for a in answer:\n",
    "#  if(a == 0):\n",
    "#    ans.append(\"A\")\n",
    "#  elif(a == 1):\n",
    "#    ans.append(\"B\")\n",
    "#  elif(a == 2):\n",
    "#    ans.append(\"C\")\n",
    "#  elif(a == 3):\n",
    "#     ans.append(\"D\")"
   ]
  },
  {
   "cell_type": "code",
   "execution_count": 43,
   "metadata": {
    "id": "JXtOko-KItqY"
   },
   "outputs": [],
   "source": [
    "id = np.linspace(1,1600,1600,dtype = \"int\")\n",
    "a = np.concatenate((id,answer))#深度學習請使用ans 傳統機器學習請用answer\n",
    "a = a.reshape(2,1600)\n",
    "a = np.transpose(a, axes=None)\n",
    "df = pd.DataFrame(a, columns = ['Id','Category'], index = False)\n",
    "df.to_csv('./answer4.csv', columns=['Id','Category'])"
   ]
  }
 ],
 "metadata": {
  "colab": {
   "provenance": []
  },
  "kernelspec": {
   "display_name": "Python 3 (ipykernel)",
   "language": "python",
   "name": "python3"
  },
  "language_info": {
   "codemirror_mode": {
    "name": "ipython",
    "version": 3
   },
   "file_extension": ".py",
   "mimetype": "text/x-python",
   "name": "python",
   "nbconvert_exporter": "python",
   "pygments_lexer": "ipython3",
   "version": "3.9.7"
  }
 },
 "nbformat": 4,
 "nbformat_minor": 1
}
