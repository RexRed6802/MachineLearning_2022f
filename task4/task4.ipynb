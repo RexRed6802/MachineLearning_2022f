{
  "nbformat": 4,
  "nbformat_minor": 0,
  "metadata": {
    "colab": {
      "provenance": []
    },
    "kernelspec": {
      "name": "python3",
      "display_name": "Python 3"
    },
    "language_info": {
      "name": "python"
    }
  },
  "cells": [
    {
      "cell_type": "code",
      "execution_count": 103,
      "metadata": {
        "id": "nI9E_ZktuDfO"
      },
      "outputs": [],
      "source": [
        "import numpy as np\n",
        "import pandas as pd\n",
        "import matplotlib.pyplot as plt\n",
        "from tensorflow.keras import datasets, layers, models\n",
        "from tensorflow.keras.utils import to_categorical\n",
        "import sklearn\n",
        "from sklearn.metrics import confusion_matrix\n",
        "from sklearn.model_selection import train_test_split\n",
        "from sklearn.preprocessing import StandardScaler"
      ]
    },
    {
      "cell_type": "code",
      "source": [
        "col = ['feature2','feature3','feature4','class']\n"
      ],
      "metadata": {
        "id": "M1dmBNjIFJYD"
      },
      "execution_count": 104,
      "outputs": []
    },
    {
      "cell_type": "code",
      "source": [
        "train_data = pd.read_csv(\"train_dec08_task4_missing.csv\")\n",
        "test_data = pd.read_csv(\"test_dec08_task4_missing_only_features.csv\")"
      ],
      "metadata": {
        "id": "-aHiM8sQucC_"
      },
      "execution_count": 105,
      "outputs": []
    },
    {
      "cell_type": "code",
      "source": [
        "train_data = train_data[col].copy()\n",
        "train_data = train_data.dropna()"
      ],
      "metadata": {
        "id": "iu6e76m-3BjC"
      },
      "execution_count": 106,
      "outputs": []
    },
    {
      "cell_type": "code",
      "source": [
        "train_data.iloc[1:10]"
      ],
      "metadata": {
        "id": "EhXXv1qD_hgr",
        "colab": {
          "base_uri": "https://localhost:8080/",
          "height": 328
        },
        "outputId": "280b9a42-ae43-479a-c5ea-839f85d31a31"
      },
      "execution_count": 107,
      "outputs": [
        {
          "output_type": "execute_result",
          "data": {
            "text/plain": [
              "     feature2   feature3   feature4 class\n",
              "1   20.176954  15.535818  15.857875     A\n",
              "2   19.973465  15.704548   2.553840     A\n",
              "3    7.418786   7.192065  10.894859     A\n",
              "4   20.001505  17.789371   0.435783     A\n",
              "5   10.191896  16.274527  13.826648     A\n",
              "6   23.788850  16.358599   1.958868     A\n",
              "8   28.216307  19.733914  14.847692     A\n",
              "11  23.210151  24.682622  -7.276298     A\n",
              "12  17.421660  17.454866  18.429444     A"
            ],
            "text/html": [
              "\n",
              "  <div id=\"df-23dd7ec2-70df-49f9-a2b0-35694d0f5ac8\">\n",
              "    <div class=\"colab-df-container\">\n",
              "      <div>\n",
              "<style scoped>\n",
              "    .dataframe tbody tr th:only-of-type {\n",
              "        vertical-align: middle;\n",
              "    }\n",
              "\n",
              "    .dataframe tbody tr th {\n",
              "        vertical-align: top;\n",
              "    }\n",
              "\n",
              "    .dataframe thead th {\n",
              "        text-align: right;\n",
              "    }\n",
              "</style>\n",
              "<table border=\"1\" class=\"dataframe\">\n",
              "  <thead>\n",
              "    <tr style=\"text-align: right;\">\n",
              "      <th></th>\n",
              "      <th>feature2</th>\n",
              "      <th>feature3</th>\n",
              "      <th>feature4</th>\n",
              "      <th>class</th>\n",
              "    </tr>\n",
              "  </thead>\n",
              "  <tbody>\n",
              "    <tr>\n",
              "      <th>1</th>\n",
              "      <td>20.176954</td>\n",
              "      <td>15.535818</td>\n",
              "      <td>15.857875</td>\n",
              "      <td>A</td>\n",
              "    </tr>\n",
              "    <tr>\n",
              "      <th>2</th>\n",
              "      <td>19.973465</td>\n",
              "      <td>15.704548</td>\n",
              "      <td>2.553840</td>\n",
              "      <td>A</td>\n",
              "    </tr>\n",
              "    <tr>\n",
              "      <th>3</th>\n",
              "      <td>7.418786</td>\n",
              "      <td>7.192065</td>\n",
              "      <td>10.894859</td>\n",
              "      <td>A</td>\n",
              "    </tr>\n",
              "    <tr>\n",
              "      <th>4</th>\n",
              "      <td>20.001505</td>\n",
              "      <td>17.789371</td>\n",
              "      <td>0.435783</td>\n",
              "      <td>A</td>\n",
              "    </tr>\n",
              "    <tr>\n",
              "      <th>5</th>\n",
              "      <td>10.191896</td>\n",
              "      <td>16.274527</td>\n",
              "      <td>13.826648</td>\n",
              "      <td>A</td>\n",
              "    </tr>\n",
              "    <tr>\n",
              "      <th>6</th>\n",
              "      <td>23.788850</td>\n",
              "      <td>16.358599</td>\n",
              "      <td>1.958868</td>\n",
              "      <td>A</td>\n",
              "    </tr>\n",
              "    <tr>\n",
              "      <th>8</th>\n",
              "      <td>28.216307</td>\n",
              "      <td>19.733914</td>\n",
              "      <td>14.847692</td>\n",
              "      <td>A</td>\n",
              "    </tr>\n",
              "    <tr>\n",
              "      <th>11</th>\n",
              "      <td>23.210151</td>\n",
              "      <td>24.682622</td>\n",
              "      <td>-7.276298</td>\n",
              "      <td>A</td>\n",
              "    </tr>\n",
              "    <tr>\n",
              "      <th>12</th>\n",
              "      <td>17.421660</td>\n",
              "      <td>17.454866</td>\n",
              "      <td>18.429444</td>\n",
              "      <td>A</td>\n",
              "    </tr>\n",
              "  </tbody>\n",
              "</table>\n",
              "</div>\n",
              "      <button class=\"colab-df-convert\" onclick=\"convertToInteractive('df-23dd7ec2-70df-49f9-a2b0-35694d0f5ac8')\"\n",
              "              title=\"Convert this dataframe to an interactive table.\"\n",
              "              style=\"display:none;\">\n",
              "        \n",
              "  <svg xmlns=\"http://www.w3.org/2000/svg\" height=\"24px\"viewBox=\"0 0 24 24\"\n",
              "       width=\"24px\">\n",
              "    <path d=\"M0 0h24v24H0V0z\" fill=\"none\"/>\n",
              "    <path d=\"M18.56 5.44l.94 2.06.94-2.06 2.06-.94-2.06-.94-.94-2.06-.94 2.06-2.06.94zm-11 1L8.5 8.5l.94-2.06 2.06-.94-2.06-.94L8.5 2.5l-.94 2.06-2.06.94zm10 10l.94 2.06.94-2.06 2.06-.94-2.06-.94-.94-2.06-.94 2.06-2.06.94z\"/><path d=\"M17.41 7.96l-1.37-1.37c-.4-.4-.92-.59-1.43-.59-.52 0-1.04.2-1.43.59L10.3 9.45l-7.72 7.72c-.78.78-.78 2.05 0 2.83L4 21.41c.39.39.9.59 1.41.59.51 0 1.02-.2 1.41-.59l7.78-7.78 2.81-2.81c.8-.78.8-2.07 0-2.86zM5.41 20L4 18.59l7.72-7.72 1.47 1.35L5.41 20z\"/>\n",
              "  </svg>\n",
              "      </button>\n",
              "      \n",
              "  <style>\n",
              "    .colab-df-container {\n",
              "      display:flex;\n",
              "      flex-wrap:wrap;\n",
              "      gap: 12px;\n",
              "    }\n",
              "\n",
              "    .colab-df-convert {\n",
              "      background-color: #E8F0FE;\n",
              "      border: none;\n",
              "      border-radius: 50%;\n",
              "      cursor: pointer;\n",
              "      display: none;\n",
              "      fill: #1967D2;\n",
              "      height: 32px;\n",
              "      padding: 0 0 0 0;\n",
              "      width: 32px;\n",
              "    }\n",
              "\n",
              "    .colab-df-convert:hover {\n",
              "      background-color: #E2EBFA;\n",
              "      box-shadow: 0px 1px 2px rgba(60, 64, 67, 0.3), 0px 1px 3px 1px rgba(60, 64, 67, 0.15);\n",
              "      fill: #174EA6;\n",
              "    }\n",
              "\n",
              "    [theme=dark] .colab-df-convert {\n",
              "      background-color: #3B4455;\n",
              "      fill: #D2E3FC;\n",
              "    }\n",
              "\n",
              "    [theme=dark] .colab-df-convert:hover {\n",
              "      background-color: #434B5C;\n",
              "      box-shadow: 0px 1px 3px 1px rgba(0, 0, 0, 0.15);\n",
              "      filter: drop-shadow(0px 1px 2px rgba(0, 0, 0, 0.3));\n",
              "      fill: #FFFFFF;\n",
              "    }\n",
              "  </style>\n",
              "\n",
              "      <script>\n",
              "        const buttonEl =\n",
              "          document.querySelector('#df-23dd7ec2-70df-49f9-a2b0-35694d0f5ac8 button.colab-df-convert');\n",
              "        buttonEl.style.display =\n",
              "          google.colab.kernel.accessAllowed ? 'block' : 'none';\n",
              "\n",
              "        async function convertToInteractive(key) {\n",
              "          const element = document.querySelector('#df-23dd7ec2-70df-49f9-a2b0-35694d0f5ac8');\n",
              "          const dataTable =\n",
              "            await google.colab.kernel.invokeFunction('convertToInteractive',\n",
              "                                                     [key], {});\n",
              "          if (!dataTable) return;\n",
              "\n",
              "          const docLinkHtml = 'Like what you see? Visit the ' +\n",
              "            '<a target=\"_blank\" href=https://colab.research.google.com/notebooks/data_table.ipynb>data table notebook</a>'\n",
              "            + ' to learn more about interactive tables.';\n",
              "          element.innerHTML = '';\n",
              "          dataTable['output_type'] = 'display_data';\n",
              "          await google.colab.output.renderOutput(dataTable, element);\n",
              "          const docLink = document.createElement('div');\n",
              "          docLink.innerHTML = docLinkHtml;\n",
              "          element.appendChild(docLink);\n",
              "        }\n",
              "      </script>\n",
              "    </div>\n",
              "  </div>\n",
              "  "
            ]
          },
          "metadata": {},
          "execution_count": 107
        }
      ]
    },
    {
      "cell_type": "code",
      "source": [
        "train_data['class'].value_counts()"
      ],
      "metadata": {
        "colab": {
          "base_uri": "https://localhost:8080/"
        },
        "id": "jx9nKl5P3Gq7",
        "outputId": "d5be4da8-f5b9-4e78-8b83-264b3de9a4ba"
      },
      "execution_count": 108,
      "outputs": [
        {
          "output_type": "execute_result",
          "data": {
            "text/plain": [
              "C    2111\n",
              "B    1668\n",
              "A     842\n",
              "D     822\n",
              "Name: class, dtype: int64"
            ]
          },
          "metadata": {},
          "execution_count": 108
        }
      ]
    },
    {
      "cell_type": "code",
      "source": [
        "x = pd.DataFrame(data = None, columns= train_data.columns)"
      ],
      "metadata": {
        "id": "FXHoRUib8AYH"
      },
      "execution_count": 109,
      "outputs": []
    },
    {
      "cell_type": "code",
      "source": [
        "from sklearn.utils import resample\n",
        "classifications = ['C','B']\n",
        "np1 = np.array([])\n",
        "for c in classifications:\n",
        "  np1 = np.append(np1,(resample(train_data[train_data['class'] == c],\n",
        "             replace=False,\n",
        "             n_samples=800,\n",
        "             random_state=42)))\n",
        "np1 = np.append(np1,np.array(train_data[train_data['class'] == 'A']))\n",
        "np1 = np.append(np1,np.array(train_data[train_data['class'] == 'D']))\n",
        "x = pd.DataFrame(data = np1.reshape(int(13056/4),4), columns= train_data.columns)\n",
        "#x.append([train_data[train_data['class'] == 'A'],train_data[train_data['class'] == 'D']])\n"
      ],
      "metadata": {
        "id": "UagXrMsEyP2b"
      },
      "execution_count": 110,
      "outputs": []
    },
    {
      "cell_type": "code",
      "source": [
        "x"
      ],
      "metadata": {
        "colab": {
          "base_uri": "https://localhost:8080/",
          "height": 419
        },
        "id": "8CiumpI7CdHL",
        "outputId": "075f5bcf-6ef4-4e02-fe0e-651d8cdf49d4"
      },
      "execution_count": 111,
      "outputs": [
        {
          "output_type": "execute_result",
          "data": {
            "text/plain": [
              "       feature2   feature3   feature4 class\n",
              "0     18.708037  16.125312  18.669622     C\n",
              "1      9.039289  25.206686   6.112024     C\n",
              "2     11.949262  26.097404   6.470531     C\n",
              "3      7.080678  31.390979  33.015794     C\n",
              "4     12.169515  25.032152   4.018233     C\n",
              "...         ...        ...        ...   ...\n",
              "3259   9.814982  13.292516   5.816327     D\n",
              "3260  27.959554  11.679617  -0.046006     D\n",
              "3261  21.556543   9.799886   2.398715     D\n",
              "3262  11.728741  11.899123   8.347815     D\n",
              "3263  11.897781  11.511646  10.883768     D\n",
              "\n",
              "[3264 rows x 4 columns]"
            ],
            "text/html": [
              "\n",
              "  <div id=\"df-1bd2f17f-a8cc-4d2e-af66-06cd3f6f4e96\">\n",
              "    <div class=\"colab-df-container\">\n",
              "      <div>\n",
              "<style scoped>\n",
              "    .dataframe tbody tr th:only-of-type {\n",
              "        vertical-align: middle;\n",
              "    }\n",
              "\n",
              "    .dataframe tbody tr th {\n",
              "        vertical-align: top;\n",
              "    }\n",
              "\n",
              "    .dataframe thead th {\n",
              "        text-align: right;\n",
              "    }\n",
              "</style>\n",
              "<table border=\"1\" class=\"dataframe\">\n",
              "  <thead>\n",
              "    <tr style=\"text-align: right;\">\n",
              "      <th></th>\n",
              "      <th>feature2</th>\n",
              "      <th>feature3</th>\n",
              "      <th>feature4</th>\n",
              "      <th>class</th>\n",
              "    </tr>\n",
              "  </thead>\n",
              "  <tbody>\n",
              "    <tr>\n",
              "      <th>0</th>\n",
              "      <td>18.708037</td>\n",
              "      <td>16.125312</td>\n",
              "      <td>18.669622</td>\n",
              "      <td>C</td>\n",
              "    </tr>\n",
              "    <tr>\n",
              "      <th>1</th>\n",
              "      <td>9.039289</td>\n",
              "      <td>25.206686</td>\n",
              "      <td>6.112024</td>\n",
              "      <td>C</td>\n",
              "    </tr>\n",
              "    <tr>\n",
              "      <th>2</th>\n",
              "      <td>11.949262</td>\n",
              "      <td>26.097404</td>\n",
              "      <td>6.470531</td>\n",
              "      <td>C</td>\n",
              "    </tr>\n",
              "    <tr>\n",
              "      <th>3</th>\n",
              "      <td>7.080678</td>\n",
              "      <td>31.390979</td>\n",
              "      <td>33.015794</td>\n",
              "      <td>C</td>\n",
              "    </tr>\n",
              "    <tr>\n",
              "      <th>4</th>\n",
              "      <td>12.169515</td>\n",
              "      <td>25.032152</td>\n",
              "      <td>4.018233</td>\n",
              "      <td>C</td>\n",
              "    </tr>\n",
              "    <tr>\n",
              "      <th>...</th>\n",
              "      <td>...</td>\n",
              "      <td>...</td>\n",
              "      <td>...</td>\n",
              "      <td>...</td>\n",
              "    </tr>\n",
              "    <tr>\n",
              "      <th>3259</th>\n",
              "      <td>9.814982</td>\n",
              "      <td>13.292516</td>\n",
              "      <td>5.816327</td>\n",
              "      <td>D</td>\n",
              "    </tr>\n",
              "    <tr>\n",
              "      <th>3260</th>\n",
              "      <td>27.959554</td>\n",
              "      <td>11.679617</td>\n",
              "      <td>-0.046006</td>\n",
              "      <td>D</td>\n",
              "    </tr>\n",
              "    <tr>\n",
              "      <th>3261</th>\n",
              "      <td>21.556543</td>\n",
              "      <td>9.799886</td>\n",
              "      <td>2.398715</td>\n",
              "      <td>D</td>\n",
              "    </tr>\n",
              "    <tr>\n",
              "      <th>3262</th>\n",
              "      <td>11.728741</td>\n",
              "      <td>11.899123</td>\n",
              "      <td>8.347815</td>\n",
              "      <td>D</td>\n",
              "    </tr>\n",
              "    <tr>\n",
              "      <th>3263</th>\n",
              "      <td>11.897781</td>\n",
              "      <td>11.511646</td>\n",
              "      <td>10.883768</td>\n",
              "      <td>D</td>\n",
              "    </tr>\n",
              "  </tbody>\n",
              "</table>\n",
              "<p>3264 rows × 4 columns</p>\n",
              "</div>\n",
              "      <button class=\"colab-df-convert\" onclick=\"convertToInteractive('df-1bd2f17f-a8cc-4d2e-af66-06cd3f6f4e96')\"\n",
              "              title=\"Convert this dataframe to an interactive table.\"\n",
              "              style=\"display:none;\">\n",
              "        \n",
              "  <svg xmlns=\"http://www.w3.org/2000/svg\" height=\"24px\"viewBox=\"0 0 24 24\"\n",
              "       width=\"24px\">\n",
              "    <path d=\"M0 0h24v24H0V0z\" fill=\"none\"/>\n",
              "    <path d=\"M18.56 5.44l.94 2.06.94-2.06 2.06-.94-2.06-.94-.94-2.06-.94 2.06-2.06.94zm-11 1L8.5 8.5l.94-2.06 2.06-.94-2.06-.94L8.5 2.5l-.94 2.06-2.06.94zm10 10l.94 2.06.94-2.06 2.06-.94-2.06-.94-.94-2.06-.94 2.06-2.06.94z\"/><path d=\"M17.41 7.96l-1.37-1.37c-.4-.4-.92-.59-1.43-.59-.52 0-1.04.2-1.43.59L10.3 9.45l-7.72 7.72c-.78.78-.78 2.05 0 2.83L4 21.41c.39.39.9.59 1.41.59.51 0 1.02-.2 1.41-.59l7.78-7.78 2.81-2.81c.8-.78.8-2.07 0-2.86zM5.41 20L4 18.59l7.72-7.72 1.47 1.35L5.41 20z\"/>\n",
              "  </svg>\n",
              "      </button>\n",
              "      \n",
              "  <style>\n",
              "    .colab-df-container {\n",
              "      display:flex;\n",
              "      flex-wrap:wrap;\n",
              "      gap: 12px;\n",
              "    }\n",
              "\n",
              "    .colab-df-convert {\n",
              "      background-color: #E8F0FE;\n",
              "      border: none;\n",
              "      border-radius: 50%;\n",
              "      cursor: pointer;\n",
              "      display: none;\n",
              "      fill: #1967D2;\n",
              "      height: 32px;\n",
              "      padding: 0 0 0 0;\n",
              "      width: 32px;\n",
              "    }\n",
              "\n",
              "    .colab-df-convert:hover {\n",
              "      background-color: #E2EBFA;\n",
              "      box-shadow: 0px 1px 2px rgba(60, 64, 67, 0.3), 0px 1px 3px 1px rgba(60, 64, 67, 0.15);\n",
              "      fill: #174EA6;\n",
              "    }\n",
              "\n",
              "    [theme=dark] .colab-df-convert {\n",
              "      background-color: #3B4455;\n",
              "      fill: #D2E3FC;\n",
              "    }\n",
              "\n",
              "    [theme=dark] .colab-df-convert:hover {\n",
              "      background-color: #434B5C;\n",
              "      box-shadow: 0px 1px 3px 1px rgba(0, 0, 0, 0.15);\n",
              "      filter: drop-shadow(0px 1px 2px rgba(0, 0, 0, 0.3));\n",
              "      fill: #FFFFFF;\n",
              "    }\n",
              "  </style>\n",
              "\n",
              "      <script>\n",
              "        const buttonEl =\n",
              "          document.querySelector('#df-1bd2f17f-a8cc-4d2e-af66-06cd3f6f4e96 button.colab-df-convert');\n",
              "        buttonEl.style.display =\n",
              "          google.colab.kernel.accessAllowed ? 'block' : 'none';\n",
              "\n",
              "        async function convertToInteractive(key) {\n",
              "          const element = document.querySelector('#df-1bd2f17f-a8cc-4d2e-af66-06cd3f6f4e96');\n",
              "          const dataTable =\n",
              "            await google.colab.kernel.invokeFunction('convertToInteractive',\n",
              "                                                     [key], {});\n",
              "          if (!dataTable) return;\n",
              "\n",
              "          const docLinkHtml = 'Like what you see? Visit the ' +\n",
              "            '<a target=\"_blank\" href=https://colab.research.google.com/notebooks/data_table.ipynb>data table notebook</a>'\n",
              "            + ' to learn more about interactive tables.';\n",
              "          element.innerHTML = '';\n",
              "          dataTable['output_type'] = 'display_data';\n",
              "          await google.colab.output.renderOutput(dataTable, element);\n",
              "          const docLink = document.createElement('div');\n",
              "          docLink.innerHTML = docLinkHtml;\n",
              "          element.appendChild(docLink);\n",
              "        }\n",
              "      </script>\n",
              "    </div>\n",
              "  </div>\n",
              "  "
            ]
          },
          "metadata": {},
          "execution_count": 111
        }
      ]
    },
    {
      "cell_type": "code",
      "source": [
        "x['class'].value_counts()"
      ],
      "metadata": {
        "colab": {
          "base_uri": "https://localhost:8080/"
        },
        "id": "xJJVDo_f8hbq",
        "outputId": "ce25dfbc-1407-43f5-f49e-c0c6e4a9ecdf"
      },
      "execution_count": 112,
      "outputs": [
        {
          "output_type": "execute_result",
          "data": {
            "text/plain": [
              "A    842\n",
              "D    822\n",
              "C    800\n",
              "B    800\n",
              "Name: class, dtype: int64"
            ]
          },
          "metadata": {},
          "execution_count": 112
        }
      ]
    },
    {
      "cell_type": "code",
      "source": [
        "X = x[['feature2','feature3','feature4']]\n",
        "y = x['class']"
      ],
      "metadata": {
        "id": "-m04y4XhwcNR"
      },
      "execution_count": 113,
      "outputs": []
    },
    {
      "cell_type": "code",
      "source": [
        "from sklearn import preprocessing\n",
        "zscore = preprocessing.StandardScaler()\n",
        "X = zscore.fit_transform(X)\n",
        "t = zscore.fit_transform(test_data.iloc[:,2:5])"
      ],
      "metadata": {
        "id": "RToMjjT4-qfY"
      },
      "execution_count": 114,
      "outputs": []
    },
    {
      "cell_type": "code",
      "source": [],
      "metadata": {
        "id": "H4ubpmxZHHZ6"
      },
      "execution_count": 114,
      "outputs": []
    },
    {
      "cell_type": "code",
      "source": [
        "from sklearn.model_selection import train_test_split\n",
        "X_train, X_val, y_train, y_val = train_test_split(X, y, test_size=0.15, random_state=42)"
      ],
      "metadata": {
        "id": "MIbNa5-kxYso"
      },
      "execution_count": 115,
      "outputs": []
    },
    {
      "cell_type": "code",
      "source": [],
      "metadata": {
        "id": "TKR9eGzkGOwY"
      },
      "execution_count": 115,
      "outputs": []
    },
    {
      "cell_type": "code",
      "source": [
        "from sklearn.ensemble import RandomForestClassifier\n",
        "clf = RandomForestClassifier(n_estimators=20, min_samples_split=200)\n",
        "clf.fit(X_train, y_train)"
      ],
      "metadata": {
        "colab": {
          "base_uri": "https://localhost:8080/"
        },
        "id": "ML_KYoqKDm6C",
        "outputId": "bb0b0930-1916-45cc-9c04-19ed40477daa"
      },
      "execution_count": 116,
      "outputs": [
        {
          "output_type": "execute_result",
          "data": {
            "text/plain": [
              "RandomForestClassifier(min_samples_split=200, n_estimators=20)"
            ]
          },
          "metadata": {},
          "execution_count": 116
        }
      ]
    },
    {
      "cell_type": "code",
      "source": [
        "from sklearn.model_selection import cross_validate\n",
        "scores = cross_validate(clf,X_val,y_val,cv=5,scoring='accuracy')\n",
        "scores"
      ],
      "metadata": {
        "colab": {
          "base_uri": "https://localhost:8080/"
        },
        "id": "y-iWCagBDH4u",
        "outputId": "892df3bc-33ff-407c-8a90-e26c56b2f0a3"
      },
      "execution_count": 117,
      "outputs": [
        {
          "output_type": "execute_result",
          "data": {
            "text/plain": [
              "{'fit_time': array([0.03415442, 0.02924204, 0.02898526, 0.02701187, 0.02684522]),\n",
              " 'score_time': array([0.0028832 , 0.00285769, 0.0041573 , 0.00278997, 0.00311947]),\n",
              " 'test_score': array([0.32653061, 0.42857143, 0.40816327, 0.39795918, 0.3877551 ])}"
            ]
          },
          "metadata": {},
          "execution_count": 117
        }
      ]
    },
    {
      "cell_type": "markdown",
      "source": [
        "# Deep Learning"
      ],
      "metadata": {
        "id": "wqwrquBtGhRW"
      }
    },
    {
      "cell_type": "code",
      "source": [
        "from tensorflow.keras.utils import to_categorical\n",
        "from tensorflow.keras.models import Sequential\n",
        "from tensorflow.keras.layers import Dense\n",
        "from tensorflow.keras.optimizers import SGD"
      ],
      "metadata": {
        "id": "xKzTBvJ0Gg9x"
      },
      "execution_count": 118,
      "outputs": []
    },
    {
      "cell_type": "code",
      "source": [
        "def toCategory(lst):\n",
        "  t = []\n",
        "  for i in range(0,len(lst)):\n",
        "      k = lst\n",
        "      if(k[i] == 'A'):\n",
        "          t.append(0)\n",
        "      elif(k[i] == 'B'):\n",
        "          t.append(1)\n",
        "      elif(k[i] == 'C'):\n",
        "         t.append(2)\n",
        "      elif(k[i] == 'D'):\n",
        "         t.append(3)\n",
        "  t = to_categorical(t, 4)\n",
        "  return t;\n",
        "Y = toCategory(y)"
      ],
      "metadata": {
        "id": "ncsr7BmCGl_0"
      },
      "execution_count": 119,
      "outputs": []
    },
    {
      "cell_type": "code",
      "source": [
        "from sklearn.model_selection import train_test_split\n",
        "X_train, X_test, y_train, y_test = train_test_split(X, Y, test_size=0.15, random_state = 42)"
      ],
      "metadata": {
        "id": "Vh20TUI3HoJE"
      },
      "execution_count": 120,
      "outputs": []
    },
    {
      "cell_type": "code",
      "source": [
        "model = Sequential()\n",
        "model.add(Dense(100, input_dim=3, activation='relu'))\n",
        "model.add(Dense(35, activation='relu'))\n",
        "model.add(Dense(4, activation='softmax'))\n",
        "\n",
        "model.compile(loss='categorical_crossentropy', optimizer='adam', \n",
        "              metrics=['accuracy'])"
      ],
      "metadata": {
        "id": "qg2kakM0Hu8S"
      },
      "execution_count": 121,
      "outputs": []
    },
    {
      "cell_type": "code",
      "source": [
        "model.fit(X_train, y_train, batch_size=33, epochs=20, validation_data=(X_test, y_test))"
      ],
      "metadata": {
        "colab": {
          "base_uri": "https://localhost:8080/"
        },
        "id": "Wwq-FMxTHvos",
        "outputId": "cda9a6ae-e68b-47be-d578-564bef97029b"
      },
      "execution_count": 122,
      "outputs": [
        {
          "output_type": "stream",
          "name": "stdout",
          "text": [
            "Epoch 1/20\n",
            "85/85 [==============================] - 1s 5ms/step - loss: 1.2871 - accuracy: 0.3381 - val_loss: 1.2344 - val_accuracy: 0.4041\n",
            "Epoch 2/20\n",
            "85/85 [==============================] - 0s 2ms/step - loss: 1.2371 - accuracy: 0.3717 - val_loss: 1.2378 - val_accuracy: 0.3755\n",
            "Epoch 3/20\n",
            "85/85 [==============================] - 0s 3ms/step - loss: 1.2291 - accuracy: 0.3713 - val_loss: 1.2366 - val_accuracy: 0.3633\n",
            "Epoch 4/20\n",
            "85/85 [==============================] - 0s 3ms/step - loss: 1.2251 - accuracy: 0.3836 - val_loss: 1.2269 - val_accuracy: 0.3796\n",
            "Epoch 5/20\n",
            "85/85 [==============================] - 0s 3ms/step - loss: 1.2207 - accuracy: 0.3911 - val_loss: 1.2198 - val_accuracy: 0.3816\n",
            "Epoch 6/20\n",
            "85/85 [==============================] - 0s 3ms/step - loss: 1.2217 - accuracy: 0.3868 - val_loss: 1.2262 - val_accuracy: 0.3612\n",
            "Epoch 7/20\n",
            "85/85 [==============================] - 0s 3ms/step - loss: 1.2210 - accuracy: 0.3774 - val_loss: 1.2290 - val_accuracy: 0.3673\n",
            "Epoch 8/20\n",
            "85/85 [==============================] - 0s 2ms/step - loss: 1.2191 - accuracy: 0.3861 - val_loss: 1.2228 - val_accuracy: 0.3571\n",
            "Epoch 9/20\n",
            "85/85 [==============================] - 0s 2ms/step - loss: 1.2155 - accuracy: 0.3915 - val_loss: 1.2310 - val_accuracy: 0.3449\n",
            "Epoch 10/20\n",
            "85/85 [==============================] - 0s 2ms/step - loss: 1.2149 - accuracy: 0.3933 - val_loss: 1.2261 - val_accuracy: 0.3816\n",
            "Epoch 11/20\n",
            "85/85 [==============================] - 0s 3ms/step - loss: 1.2163 - accuracy: 0.3897 - val_loss: 1.2291 - val_accuracy: 0.3551\n",
            "Epoch 12/20\n",
            "85/85 [==============================] - 0s 3ms/step - loss: 1.2120 - accuracy: 0.3908 - val_loss: 1.2252 - val_accuracy: 0.3694\n",
            "Epoch 13/20\n",
            "85/85 [==============================] - 0s 2ms/step - loss: 1.2121 - accuracy: 0.3951 - val_loss: 1.2358 - val_accuracy: 0.3245\n",
            "Epoch 14/20\n",
            "85/85 [==============================] - 0s 3ms/step - loss: 1.2109 - accuracy: 0.3973 - val_loss: 1.2326 - val_accuracy: 0.3449\n",
            "Epoch 15/20\n",
            "85/85 [==============================] - 0s 2ms/step - loss: 1.2110 - accuracy: 0.3901 - val_loss: 1.2257 - val_accuracy: 0.3531\n",
            "Epoch 16/20\n",
            "85/85 [==============================] - 0s 2ms/step - loss: 1.2088 - accuracy: 0.3962 - val_loss: 1.2242 - val_accuracy: 0.3694\n",
            "Epoch 17/20\n",
            "85/85 [==============================] - 0s 2ms/step - loss: 1.2077 - accuracy: 0.3983 - val_loss: 1.2269 - val_accuracy: 0.3510\n",
            "Epoch 18/20\n",
            "85/85 [==============================] - 0s 3ms/step - loss: 1.2097 - accuracy: 0.3875 - val_loss: 1.2266 - val_accuracy: 0.3571\n",
            "Epoch 19/20\n",
            "85/85 [==============================] - 0s 2ms/step - loss: 1.2086 - accuracy: 0.3922 - val_loss: 1.2243 - val_accuracy: 0.3531\n",
            "Epoch 20/20\n",
            "85/85 [==============================] - 0s 3ms/step - loss: 1.2073 - accuracy: 0.3933 - val_loss: 1.2278 - val_accuracy: 0.3551\n"
          ]
        },
        {
          "output_type": "execute_result",
          "data": {
            "text/plain": [
              "<keras.callbacks.History at 0x7faf1b18d760>"
            ]
          },
          "metadata": {},
          "execution_count": 122
        }
      ]
    },
    {
      "cell_type": "code",
      "source": [
        "#answer = np.argmax(model.predict(test_data),axis = -1)"
      ],
      "metadata": {
        "id": "xb18HqOLIXoN"
      },
      "execution_count": 123,
      "outputs": []
    },
    {
      "cell_type": "code",
      "source": [
        "test_data = pd.DataFrame(t, columns = col[:-1]).fillna(0)\n",
        "answer =clf.predict(test_data)"
      ],
      "metadata": {
        "colab": {
          "base_uri": "https://localhost:8080/"
        },
        "id": "NqDo_G3XO6Rg",
        "outputId": "62924020-cb1e-4ef4-826a-c5e73ca6c6ac"
      },
      "execution_count": 133,
      "outputs": [
        {
          "output_type": "stream",
          "name": "stderr",
          "text": [
            "/usr/local/lib/python3.8/dist-packages/sklearn/base.py:443: UserWarning: X has feature names, but RandomForestClassifier was fitted without feature names\n",
            "  warnings.warn(\n"
          ]
        }
      ]
    },
    {
      "cell_type": "code",
      "source": [
        "answer"
      ],
      "metadata": {
        "colab": {
          "base_uri": "https://localhost:8080/"
        },
        "id": "dgZX9xHSRhRa",
        "outputId": "1a37e031-2070-4461-9328-f63569a8dd95"
      },
      "execution_count": 134,
      "outputs": [
        {
          "output_type": "execute_result",
          "data": {
            "text/plain": [
              "array(['D', 'D', 'A', ..., 'C', 'A', 'D'], dtype=object)"
            ]
          },
          "metadata": {},
          "execution_count": 134
        }
      ]
    },
    {
      "cell_type": "code",
      "source": [
        "#ans = []\n",
        "#for a in answer:\n",
        " # if(a == 0):\n",
        " #   ans.append(\"A\")\n",
        " # elif(a == 1):\n",
        " #   ans.append(\"B\")\n",
        " # elif(a == 2):\n",
        " #   ans.append(\"C\")\n",
        " # elif(a == 3):\n",
        " #   ans.append(\"D\")"
      ],
      "metadata": {
        "id": "_iIzV4S1ImR7"
      },
      "execution_count": 126,
      "outputs": []
    },
    {
      "cell_type": "code",
      "source": [
        "id = np.linspace(1,1600,1600,dtype = \"int\")\n",
        "a = np.concatenate((id,answer))\n",
        "a = a.reshape(2,1600)\n",
        "a = np.transpose(a, axes=None)\n",
        "df = pd.DataFrame(a, columns = ['Id','Category'])\n",
        "df.to_csv('./answer4.csv', columns=['Id','Category'])"
      ],
      "metadata": {
        "id": "JXtOko-KItqY"
      },
      "execution_count": 135,
      "outputs": []
    }
  ]
}