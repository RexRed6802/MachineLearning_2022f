{
 "cells": [
  {
   "cell_type": "code",
   "execution_count": 2,
   "id": "c4e25b89",
   "metadata": {},
   "outputs": [],
   "source": [
    "import time\n",
    "import numpy as np\n",
    "import pandas as pd\n",
    "import matplotlib.pyplot as plt"
   ]
  },
  {
   "cell_type": "markdown",
   "id": "9ec6ac15",
   "metadata": {},
   "source": [
    "# load data"
   ]
  },
  {
   "cell_type": "code",
   "execution_count": 3,
   "id": "bfd553ec",
   "metadata": {},
   "outputs": [],
   "source": [
    "train_data = pd.read_csv(\"./train_nov28_task1.csv\")\n",
    "test_data = pd.read_csv(\"./test_nov28_task1_only_features.csv\")"
   ]
  },
  {
   "cell_type": "code",
   "execution_count": 4,
   "id": "ba3ab390",
   "metadata": {},
   "outputs": [
    {
     "data": {
      "text/html": [
       "<div>\n",
       "<style scoped>\n",
       "    .dataframe tbody tr th:only-of-type {\n",
       "        vertical-align: middle;\n",
       "    }\n",
       "\n",
       "    .dataframe tbody tr th {\n",
       "        vertical-align: top;\n",
       "    }\n",
       "\n",
       "    .dataframe thead th {\n",
       "        text-align: right;\n",
       "    }\n",
       "</style>\n",
       "<table border=\"1\" class=\"dataframe\">\n",
       "  <thead>\n",
       "    <tr style=\"text-align: right;\">\n",
       "      <th></th>\n",
       "      <th>feature0</th>\n",
       "      <th>feature1</th>\n",
       "      <th>feature2</th>\n",
       "      <th>feature3</th>\n",
       "      <th>feature4</th>\n",
       "      <th>class</th>\n",
       "    </tr>\n",
       "  </thead>\n",
       "  <tbody>\n",
       "    <tr>\n",
       "      <th>0</th>\n",
       "      <td>4.115910</td>\n",
       "      <td>8.678126</td>\n",
       "      <td>16.010297</td>\n",
       "      <td>5.731837</td>\n",
       "      <td>18.907271</td>\n",
       "      <td>A</td>\n",
       "    </tr>\n",
       "    <tr>\n",
       "      <th>1</th>\n",
       "      <td>1.993343</td>\n",
       "      <td>8.920002</td>\n",
       "      <td>15.332958</td>\n",
       "      <td>10.389251</td>\n",
       "      <td>0.023662</td>\n",
       "      <td>A</td>\n",
       "    </tr>\n",
       "    <tr>\n",
       "      <th>2</th>\n",
       "      <td>0.095994</td>\n",
       "      <td>8.847990</td>\n",
       "      <td>7.292827</td>\n",
       "      <td>4.059212</td>\n",
       "      <td>7.914817</td>\n",
       "      <td>A</td>\n",
       "    </tr>\n",
       "    <tr>\n",
       "      <th>3</th>\n",
       "      <td>3.808525</td>\n",
       "      <td>8.726179</td>\n",
       "      <td>13.842177</td>\n",
       "      <td>9.997444</td>\n",
       "      <td>0.178466</td>\n",
       "      <td>A</td>\n",
       "    </tr>\n",
       "    <tr>\n",
       "      <th>4</th>\n",
       "      <td>4.554317</td>\n",
       "      <td>8.850917</td>\n",
       "      <td>15.659514</td>\n",
       "      <td>8.053744</td>\n",
       "      <td>0.341788</td>\n",
       "      <td>A</td>\n",
       "    </tr>\n",
       "  </tbody>\n",
       "</table>\n",
       "</div>"
      ],
      "text/plain": [
       "   feature0  feature1   feature2   feature3   feature4 class\n",
       "0  4.115910  8.678126  16.010297   5.731837  18.907271     A\n",
       "1  1.993343  8.920002  15.332958  10.389251   0.023662     A\n",
       "2  0.095994  8.847990   7.292827   4.059212   7.914817     A\n",
       "3  3.808525  8.726179  13.842177   9.997444   0.178466     A\n",
       "4  4.554317  8.850917  15.659514   8.053744   0.341788     A"
      ]
     },
     "execution_count": 4,
     "metadata": {},
     "output_type": "execute_result"
    }
   ],
   "source": [
    "train_data.head()"
   ]
  },
  {
   "cell_type": "code",
   "execution_count": 5,
   "id": "d357f776",
   "metadata": {},
   "outputs": [],
   "source": [
    "X = train_data.iloc[:,1:5]\n",
    "y = train_data.iloc[:,5:]"
   ]
  },
  {
   "cell_type": "code",
   "execution_count": 6,
   "id": "a159e69e",
   "metadata": {},
   "outputs": [
    {
     "data": {
      "text/html": [
       "<div>\n",
       "<style scoped>\n",
       "    .dataframe tbody tr th:only-of-type {\n",
       "        vertical-align: middle;\n",
       "    }\n",
       "\n",
       "    .dataframe tbody tr th {\n",
       "        vertical-align: top;\n",
       "    }\n",
       "\n",
       "    .dataframe thead th {\n",
       "        text-align: right;\n",
       "    }\n",
       "</style>\n",
       "<table border=\"1\" class=\"dataframe\">\n",
       "  <thead>\n",
       "    <tr style=\"text-align: right;\">\n",
       "      <th></th>\n",
       "      <th>class</th>\n",
       "    </tr>\n",
       "  </thead>\n",
       "  <tbody>\n",
       "    <tr>\n",
       "      <th>3595</th>\n",
       "      <td>C</td>\n",
       "    </tr>\n",
       "    <tr>\n",
       "      <th>3596</th>\n",
       "      <td>C</td>\n",
       "    </tr>\n",
       "    <tr>\n",
       "      <th>3597</th>\n",
       "      <td>C</td>\n",
       "    </tr>\n",
       "    <tr>\n",
       "      <th>3598</th>\n",
       "      <td>C</td>\n",
       "    </tr>\n",
       "    <tr>\n",
       "      <th>3599</th>\n",
       "      <td>C</td>\n",
       "    </tr>\n",
       "  </tbody>\n",
       "</table>\n",
       "</div>"
      ],
      "text/plain": [
       "     class\n",
       "3595     C\n",
       "3596     C\n",
       "3597     C\n",
       "3598     C\n",
       "3599     C"
      ]
     },
     "execution_count": 6,
     "metadata": {},
     "output_type": "execute_result"
    }
   ],
   "source": [
    "y.tail()"
   ]
  },
  {
   "cell_type": "code",
   "execution_count": 7,
   "id": "5070f8ee",
   "metadata": {},
   "outputs": [
    {
     "data": {
      "text/html": [
       "<div>\n",
       "<style scoped>\n",
       "    .dataframe tbody tr th:only-of-type {\n",
       "        vertical-align: middle;\n",
       "    }\n",
       "\n",
       "    .dataframe tbody tr th {\n",
       "        vertical-align: top;\n",
       "    }\n",
       "\n",
       "    .dataframe thead th {\n",
       "        text-align: right;\n",
       "    }\n",
       "</style>\n",
       "<table border=\"1\" class=\"dataframe\">\n",
       "  <thead>\n",
       "    <tr style=\"text-align: right;\">\n",
       "      <th></th>\n",
       "      <th>feature0</th>\n",
       "      <th>feature1</th>\n",
       "      <th>feature2</th>\n",
       "      <th>feature3</th>\n",
       "      <th>feature4</th>\n",
       "    </tr>\n",
       "  </thead>\n",
       "  <tbody>\n",
       "    <tr>\n",
       "      <th>595</th>\n",
       "      <td>1.680964</td>\n",
       "      <td>8.997714</td>\n",
       "      <td>13.848865</td>\n",
       "      <td>18.064389</td>\n",
       "      <td>17.986049</td>\n",
       "    </tr>\n",
       "    <tr>\n",
       "      <th>596</th>\n",
       "      <td>5.698785</td>\n",
       "      <td>8.998488</td>\n",
       "      <td>9.970493</td>\n",
       "      <td>19.993208</td>\n",
       "      <td>19.885641</td>\n",
       "    </tr>\n",
       "    <tr>\n",
       "      <th>597</th>\n",
       "      <td>3.244223</td>\n",
       "      <td>8.998757</td>\n",
       "      <td>7.576489</td>\n",
       "      <td>13.780486</td>\n",
       "      <td>24.439806</td>\n",
       "    </tr>\n",
       "    <tr>\n",
       "      <th>598</th>\n",
       "      <td>1.588390</td>\n",
       "      <td>8.999924</td>\n",
       "      <td>14.920500</td>\n",
       "      <td>18.602443</td>\n",
       "      <td>14.978804</td>\n",
       "    </tr>\n",
       "    <tr>\n",
       "      <th>599</th>\n",
       "      <td>4.820494</td>\n",
       "      <td>8.999993</td>\n",
       "      <td>9.180042</td>\n",
       "      <td>16.018661</td>\n",
       "      <td>4.614099</td>\n",
       "    </tr>\n",
       "  </tbody>\n",
       "</table>\n",
       "</div>"
      ],
      "text/plain": [
       "     feature0  feature1   feature2   feature3   feature4\n",
       "595  1.680964  8.997714  13.848865  18.064389  17.986049\n",
       "596  5.698785  8.998488   9.970493  19.993208  19.885641\n",
       "597  3.244223  8.998757   7.576489  13.780486  24.439806\n",
       "598  1.588390  8.999924  14.920500  18.602443  14.978804\n",
       "599  4.820494  8.999993   9.180042  16.018661   4.614099"
      ]
     },
     "execution_count": 7,
     "metadata": {},
     "output_type": "execute_result"
    }
   ],
   "source": [
    "test_data.tail()"
   ]
  },
  {
   "cell_type": "code",
   "execution_count": 8,
   "id": "7c5850d7",
   "metadata": {},
   "outputs": [
    {
     "data": {
      "text/html": [
       "<div>\n",
       "<style scoped>\n",
       "    .dataframe tbody tr th:only-of-type {\n",
       "        vertical-align: middle;\n",
       "    }\n",
       "\n",
       "    .dataframe tbody tr th {\n",
       "        vertical-align: top;\n",
       "    }\n",
       "\n",
       "    .dataframe thead th {\n",
       "        text-align: right;\n",
       "    }\n",
       "</style>\n",
       "<table border=\"1\" class=\"dataframe\">\n",
       "  <thead>\n",
       "    <tr style=\"text-align: right;\">\n",
       "      <th></th>\n",
       "      <th>feature0</th>\n",
       "      <th>feature1</th>\n",
       "      <th>feature2</th>\n",
       "      <th>feature3</th>\n",
       "      <th>feature4</th>\n",
       "    </tr>\n",
       "  </thead>\n",
       "  <tbody>\n",
       "    <tr>\n",
       "      <th>0</th>\n",
       "      <td>1.090442</td>\n",
       "      <td>8.108149</td>\n",
       "      <td>10.863764</td>\n",
       "      <td>20.673382</td>\n",
       "      <td>0.258073</td>\n",
       "    </tr>\n",
       "    <tr>\n",
       "      <th>1</th>\n",
       "      <td>1.913153</td>\n",
       "      <td>8.115473</td>\n",
       "      <td>12.656546</td>\n",
       "      <td>14.695447</td>\n",
       "      <td>17.861850</td>\n",
       "    </tr>\n",
       "    <tr>\n",
       "      <th>2</th>\n",
       "      <td>5.747883</td>\n",
       "      <td>8.117581</td>\n",
       "      <td>9.322548</td>\n",
       "      <td>15.385807</td>\n",
       "      <td>1.281899</td>\n",
       "    </tr>\n",
       "    <tr>\n",
       "      <th>3</th>\n",
       "      <td>0.605095</td>\n",
       "      <td>8.117733</td>\n",
       "      <td>15.676220</td>\n",
       "      <td>27.224439</td>\n",
       "      <td>13.524959</td>\n",
       "    </tr>\n",
       "    <tr>\n",
       "      <th>4</th>\n",
       "      <td>4.975120</td>\n",
       "      <td>8.122020</td>\n",
       "      <td>7.791070</td>\n",
       "      <td>28.519339</td>\n",
       "      <td>14.480148</td>\n",
       "    </tr>\n",
       "  </tbody>\n",
       "</table>\n",
       "</div>"
      ],
      "text/plain": [
       "   feature0  feature1   feature2   feature3   feature4\n",
       "0  1.090442  8.108149  10.863764  20.673382   0.258073\n",
       "1  1.913153  8.115473  12.656546  14.695447  17.861850\n",
       "2  5.747883  8.117581   9.322548  15.385807   1.281899\n",
       "3  0.605095  8.117733  15.676220  27.224439  13.524959\n",
       "4  4.975120  8.122020   7.791070  28.519339  14.480148"
      ]
     },
     "execution_count": 8,
     "metadata": {},
     "output_type": "execute_result"
    }
   ],
   "source": [
    "test_data.iloc[0:603,0:5].head()"
   ]
  },
  {
   "cell_type": "code",
   "execution_count": 9,
   "id": "9ebcc9d0",
   "metadata": {},
   "outputs": [],
   "source": [
    "#IQR0 = X.iloc[:,0:1].quantile(0.75) - X.iloc[:,0:1].quantile(0.25)\n",
    "#IQR1 = X.feature1.quantile(0.75) - X.feature1.quantile(0.25)\n",
    "#IQR2 = X.feature2.quantile(0.75) - X.feature2.quantile(0.25)\n",
    "#IQR3 = X.feature3.quantile(0.75) - X.feature3.quantile(0.25)\n",
    "#IQR4 = X.feature4.quantile(0.75) - X.feature4.quantile(0.25)"
   ]
  },
  {
   "cell_type": "markdown",
   "id": "4f705aff",
   "metadata": {},
   "source": [
    "# split data for training and validation"
   ]
  },
  {
   "cell_type": "code",
   "execution_count": 10,
   "id": "8704a73e",
   "metadata": {},
   "outputs": [],
   "source": [
    "from sklearn.model_selection import train_test_split\n",
    "X_train, X_val, y_train, y_val = train_test_split(X, y, test_size=0.33, random_state=42)"
   ]
  },
  {
   "cell_type": "markdown",
   "id": "cd6a5e32",
   "metadata": {},
   "source": [
    "# Support Vector Machine"
   ]
  },
  {
   "cell_type": "code",
   "execution_count": 15,
   "id": "e7a61509",
   "metadata": {},
   "outputs": [
    {
     "name": "stderr",
     "output_type": "stream",
     "text": [
      "/Users/jonner/opt/anaconda3/lib/python3.9/site-packages/sklearn/utils/validation.py:63: DataConversionWarning: A column-vector y was passed when a 1d array was expected. Please change the shape of y to (n_samples, ), for example using ravel().\n",
      "  return f(*args, **kwargs)\n"
     ]
    },
    {
     "data": {
      "text/plain": [
       "SVC(C=5, gamma=1.123)"
      ]
     },
     "execution_count": 15,
     "metadata": {},
     "output_type": "execute_result"
    }
   ],
   "source": [
    "from sklearn.svm import SVC\n",
    "#from sklearn.model_selection import GridSearchCV\n",
    "#param_grid = {'C':[0.01,0.1,1],'kernel':['rbf','poly','linear','sigmoid'],'gamma':[0.01,0.1,1]}\n",
    "#grid = GridSearchCV(svm,param_grid)\n",
    "#grid.fit(X,y)\n",
    "#print(\"grid.best_params_ = \",grid.best_params_,\", grid.best_score_ =\" ,grid.best_score_)\n",
    "\n",
    "svm = SVC()\n",
    "svm = SVC(kernel = \"rbf\",C =5, gamma = 1.123)\n",
    "#svm = SVC(kernel = \"poly\", C = 1.005, degree = 5, gamma = 0.0132, max_iter = 20000000)\n",
    "#svm = SVC(kernel = \"linear\", degree = 5)\n",
    "svm.fit(X_train,y_train)"
   ]
  },
  {
   "cell_type": "code",
   "execution_count": 16,
   "id": "52a7e068",
   "metadata": {},
   "outputs": [
    {
     "data": {
      "text/plain": [
       "0.946969696969697"
      ]
     },
     "execution_count": 16,
     "metadata": {},
     "output_type": "execute_result"
    }
   ],
   "source": [
    "svm.score(X_val,y_val)"
   ]
  },
  {
   "cell_type": "markdown",
   "id": "98bbbeca",
   "metadata": {},
   "source": [
    "# put validation data back for training a better model"
   ]
  },
  {
   "cell_type": "code",
   "execution_count": 17,
   "id": "7344c3d5",
   "metadata": {},
   "outputs": [
    {
     "name": "stderr",
     "output_type": "stream",
     "text": [
      "/Users/jonner/opt/anaconda3/lib/python3.9/site-packages/sklearn/utils/validation.py:63: DataConversionWarning: A column-vector y was passed when a 1d array was expected. Please change the shape of y to (n_samples, ), for example using ravel().\n",
      "  return f(*args, **kwargs)\n"
     ]
    },
    {
     "data": {
      "text/plain": [
       "SVC(C=5, gamma=1.123)"
      ]
     },
     "execution_count": 17,
     "metadata": {},
     "output_type": "execute_result"
    }
   ],
   "source": [
    "svm.fit(X,y)"
   ]
  },
  {
   "cell_type": "code",
   "execution_count": 16,
   "id": "e0c194c5",
   "metadata": {},
   "outputs": [
    {
     "data": {
      "text/plain": [
       "<bound method BaseSVC.predict of SVC(C=5.05, gamma=1.2)>"
      ]
     },
     "execution_count": 16,
     "metadata": {},
     "output_type": "execute_result"
    }
   ],
   "source": [
    "svm.predict"
   ]
  },
  {
   "cell_type": "code",
   "execution_count": 55,
   "id": "23ba5204",
   "metadata": {},
   "outputs": [
    {
     "name": "stderr",
     "output_type": "stream",
     "text": [
      "/Users/jonner/opt/anaconda3/lib/python3.9/site-packages/sklearn/neighbors/_classification.py:179: DataConversionWarning: A column-vector y was passed when a 1d array was expected. Please change the shape of y to (n_samples,), for example using ravel().\n",
      "  return self._fit(X, y)\n"
     ]
    },
    {
     "data": {
      "text/plain": [
       "KNeighborsClassifier(n_neighbors=1)"
      ]
     },
     "execution_count": 55,
     "metadata": {},
     "output_type": "execute_result"
    }
   ],
   "source": [
    "#from sklearn.neighbors import KNeighborsClassifier\n",
    "#knn = KNeighborsClassifier(n_neighbors = 1)\n",
    "#knn.fit(X_train,y_train)"
   ]
  },
  {
   "cell_type": "code",
   "execution_count": 56,
   "id": "e33a8075",
   "metadata": {},
   "outputs": [
    {
     "data": {
      "text/plain": [
       "0.9444444444444444"
      ]
     },
     "execution_count": 56,
     "metadata": {},
     "output_type": "execute_result"
    }
   ],
   "source": [
    "#knn.score(X_val,y_val)"
   ]
  },
  {
   "cell_type": "code",
   "execution_count": 53,
   "id": "3d4dc0e7",
   "metadata": {},
   "outputs": [],
   "source": [
    "#from sklearn import cluster\n",
    "#kmeans_fit = cluster.KMeans(n_clusters = 3, max_iter = 3000, n_init = 100).fit(X_train)"
   ]
  },
  {
   "cell_type": "code",
   "execution_count": 54,
   "id": "5c177c17",
   "metadata": {},
   "outputs": [
    {
     "data": {
      "text/plain": [
       "array([0, 1, 1, ..., 0, 2, 2], dtype=int32)"
      ]
     },
     "execution_count": 54,
     "metadata": {},
     "output_type": "execute_result"
    }
   ],
   "source": [
    "#kmeans_fit.labels_"
   ]
  },
  {
   "cell_type": "markdown",
   "id": "d90ce429",
   "metadata": {},
   "source": [
    "# Write the result into csv file"
   ]
  },
  {
   "cell_type": "code",
   "execution_count": 17,
   "id": "270f6836",
   "metadata": {},
   "outputs": [],
   "source": [
    "id = np.linspace(1,600,600,dtype = \"int\")\n"
   ]
  },
  {
   "cell_type": "code",
   "execution_count": 18,
   "id": "96cb71a0",
   "metadata": {},
   "outputs": [
    {
     "data": {
      "text/plain": [
       "array([  1,   2,   3,   4,   5,   6,   7,   8,   9,  10,  11,  12,  13,\n",
       "        14,  15,  16,  17,  18,  19,  20,  21,  22,  23,  24,  25,  26,\n",
       "        27,  28,  29,  30,  31,  32,  33,  34,  35,  36,  37,  38,  39,\n",
       "        40,  41,  42,  43,  44,  45,  46,  47,  48,  49,  50,  51,  52,\n",
       "        53,  54,  55,  56,  57,  58,  59,  60,  61,  62,  63,  64,  65,\n",
       "        66,  67,  68,  69,  70,  71,  72,  73,  74,  75,  76,  77,  78,\n",
       "        79,  80,  81,  82,  83,  84,  85,  86,  87,  88,  89,  90,  91,\n",
       "        92,  93,  94,  95,  96,  97,  98,  99, 100, 101, 102, 103, 104,\n",
       "       105, 106, 107, 108, 109, 110, 111, 112, 113, 114, 115, 116, 117,\n",
       "       118, 119, 120, 121, 122, 123, 124, 125, 126, 127, 128, 129, 130,\n",
       "       131, 132, 133, 134, 135, 136, 137, 138, 139, 140, 141, 142, 143,\n",
       "       144, 145, 146, 147, 148, 149, 150, 151, 152, 153, 154, 155, 156,\n",
       "       157, 158, 159, 160, 161, 162, 163, 164, 165, 166, 167, 168, 169,\n",
       "       170, 171, 172, 173, 174, 175, 176, 177, 178, 179, 180, 181, 182,\n",
       "       183, 184, 185, 186, 187, 188, 189, 190, 191, 192, 193, 194, 195,\n",
       "       196, 197, 198, 199, 200, 201, 202, 203, 204, 205, 206, 207, 208,\n",
       "       209, 210, 211, 212, 213, 214, 215, 216, 217, 218, 219, 220, 221,\n",
       "       222, 223, 224, 225, 226, 227, 228, 229, 230, 231, 232, 233, 234,\n",
       "       235, 236, 237, 238, 239, 240, 241, 242, 243, 244, 245, 246, 247,\n",
       "       248, 249, 250, 251, 252, 253, 254, 255, 256, 257, 258, 259, 260,\n",
       "       261, 262, 263, 264, 265, 266, 267, 268, 269, 270, 271, 272, 273,\n",
       "       274, 275, 276, 277, 278, 279, 280, 281, 282, 283, 284, 285, 286,\n",
       "       287, 288, 289, 290, 291, 292, 293, 294, 295, 296, 297, 298, 299,\n",
       "       300, 301, 302, 303, 304, 305, 306, 307, 308, 309, 310, 311, 312,\n",
       "       313, 314, 315, 316, 317, 318, 319, 320, 321, 322, 323, 324, 325,\n",
       "       326, 327, 328, 329, 330, 331, 332, 333, 334, 335, 336, 337, 338,\n",
       "       339, 340, 341, 342, 343, 344, 345, 346, 347, 348, 349, 350, 351,\n",
       "       352, 353, 354, 355, 356, 357, 358, 359, 360, 361, 362, 363, 364,\n",
       "       365, 366, 367, 368, 369, 370, 371, 372, 373, 374, 375, 376, 377,\n",
       "       378, 379, 380, 381, 382, 383, 384, 385, 386, 387, 388, 389, 390,\n",
       "       391, 392, 393, 394, 395, 396, 397, 398, 399, 400, 401, 402, 403,\n",
       "       404, 405, 406, 407, 408, 409, 410, 411, 412, 413, 414, 415, 416,\n",
       "       417, 418, 419, 420, 421, 422, 423, 424, 425, 426, 427, 428, 429,\n",
       "       430, 431, 432, 433, 434, 435, 436, 437, 438, 439, 440, 441, 442,\n",
       "       443, 444, 445, 446, 447, 448, 449, 450, 451, 452, 453, 454, 455,\n",
       "       456, 457, 458, 459, 460, 461, 462, 463, 464, 465, 466, 467, 468,\n",
       "       469, 470, 471, 472, 473, 474, 475, 476, 477, 478, 479, 480, 481,\n",
       "       482, 483, 484, 485, 486, 487, 488, 489, 490, 491, 492, 493, 494,\n",
       "       495, 496, 497, 498, 499, 500, 501, 502, 503, 504, 505, 506, 507,\n",
       "       508, 509, 510, 511, 512, 513, 514, 515, 516, 517, 518, 519, 520,\n",
       "       521, 522, 523, 524, 525, 526, 527, 528, 529, 530, 531, 532, 533,\n",
       "       534, 535, 536, 537, 538, 539, 540, 541, 542, 543, 544, 545, 546,\n",
       "       547, 548, 549, 550, 551, 552, 553, 554, 555, 556, 557, 558, 559,\n",
       "       560, 561, 562, 563, 564, 565, 566, 567, 568, 569, 570, 571, 572,\n",
       "       573, 574, 575, 576, 577, 578, 579, 580, 581, 582, 583, 584, 585,\n",
       "       586, 587, 588, 589, 590, 591, 592, 593, 594, 595, 596, 597, 598,\n",
       "       599, 600])"
      ]
     },
     "execution_count": 18,
     "metadata": {},
     "output_type": "execute_result"
    }
   ],
   "source": [
    "id"
   ]
  },
  {
   "cell_type": "code",
   "execution_count": 19,
   "id": "cb3042da",
   "metadata": {},
   "outputs": [],
   "source": [
    "arr = svm.predict(test_data.iloc[:,1:5])"
   ]
  },
  {
   "cell_type": "code",
   "execution_count": 20,
   "id": "7aa54e36",
   "metadata": {},
   "outputs": [],
   "source": [
    "a = np.concatenate((id,arr))"
   ]
  },
  {
   "cell_type": "code",
   "execution_count": 21,
   "id": "49c25a16",
   "metadata": {},
   "outputs": [],
   "source": [
    "a = a.reshape(2,600)"
   ]
  },
  {
   "cell_type": "code",
   "execution_count": 22,
   "id": "cf3d92eb",
   "metadata": {},
   "outputs": [],
   "source": [
    "a = np.transpose(a, axes=None)"
   ]
  },
  {
   "cell_type": "code",
   "execution_count": 26,
   "id": "bd98a3a5",
   "metadata": {},
   "outputs": [
    {
     "data": {
      "text/html": [
       "<div>\n",
       "<style scoped>\n",
       "    .dataframe tbody tr th:only-of-type {\n",
       "        vertical-align: middle;\n",
       "    }\n",
       "\n",
       "    .dataframe tbody tr th {\n",
       "        vertical-align: top;\n",
       "    }\n",
       "\n",
       "    .dataframe thead th {\n",
       "        text-align: right;\n",
       "    }\n",
       "</style>\n",
       "<table border=\"1\" class=\"dataframe\">\n",
       "  <thead>\n",
       "    <tr style=\"text-align: right;\">\n",
       "      <th></th>\n",
       "      <th>0</th>\n",
       "      <th>1</th>\n",
       "    </tr>\n",
       "  </thead>\n",
       "  <tbody>\n",
       "    <tr>\n",
       "      <th>595</th>\n",
       "      <td>596</td>\n",
       "      <td>C</td>\n",
       "    </tr>\n",
       "    <tr>\n",
       "      <th>596</th>\n",
       "      <td>597</td>\n",
       "      <td>B</td>\n",
       "    </tr>\n",
       "    <tr>\n",
       "      <th>597</th>\n",
       "      <td>598</td>\n",
       "      <td>C</td>\n",
       "    </tr>\n",
       "    <tr>\n",
       "      <th>598</th>\n",
       "      <td>599</td>\n",
       "      <td>A</td>\n",
       "    </tr>\n",
       "    <tr>\n",
       "      <th>599</th>\n",
       "      <td>600</td>\n",
       "      <td>A</td>\n",
       "    </tr>\n",
       "  </tbody>\n",
       "</table>\n",
       "</div>"
      ],
      "text/plain": [
       "       0  1\n",
       "595  596  C\n",
       "596  597  B\n",
       "597  598  C\n",
       "598  599  A\n",
       "599  600  A"
      ]
     },
     "execution_count": 26,
     "metadata": {},
     "output_type": "execute_result"
    }
   ],
   "source": [
    "pd.DataFrame(a).tail()"
   ]
  },
  {
   "cell_type": "markdown",
   "id": "953e16bd",
   "metadata": {},
   "source": [
    "雖然有寫到csv 但還是要進去檔案裡把第一個column刪掉才行XD"
   ]
  },
  {
   "cell_type": "code",
   "execution_count": 25,
   "id": "610f1e75",
   "metadata": {},
   "outputs": [],
   "source": [
    "df = pd.DataFrame(a, columns = ['Id','Category'])\n",
    "df.to_csv('answer.csv', columns=['Id','Category'])"
   ]
  },
  {
   "cell_type": "markdown",
   "id": "24924838",
   "metadata": {},
   "source": [
    "# 其他的東東"
   ]
  },
  {
   "cell_type": "code",
   "execution_count": 67,
   "id": "5ee95c5b",
   "metadata": {},
   "outputs": [
    {
     "name": "stdout",
     "output_type": "stream",
     "text": [
      "0.20003795623779297\n"
     ]
    },
    {
     "name": "stderr",
     "output_type": "stream",
     "text": [
      "/Users/jonner/opt/anaconda3/lib/python3.9/site-packages/sklearn/utils/validation.py:63: DataConversionWarning: A column-vector y was passed when a 1d array was expected. Please change the shape of y to (n_samples, ), for example using ravel().\n",
      "  return f(*args, **kwargs)\n"
     ]
    }
   ],
   "source": [
    "from sklearn.linear_model import LogisticRegression\n",
    "start = time.time()\n",
    "clf = LogisticRegression(solver = \"newton-cg\")\n",
    "clf.fit(X,y)\n",
    "print(time.time()-start)"
   ]
  },
  {
   "cell_type": "code",
   "execution_count": 68,
   "id": "d8c5e261",
   "metadata": {},
   "outputs": [
    {
     "data": {
      "text/plain": [
       "array(['A', 'A', 'A', ..., 'C', 'A', 'C'], dtype=object)"
      ]
     },
     "execution_count": 68,
     "metadata": {},
     "output_type": "execute_result"
    }
   ],
   "source": [
    "clf.predict(X)"
   ]
  },
  {
   "cell_type": "code",
   "execution_count": 69,
   "id": "f9d53e00",
   "metadata": {},
   "outputs": [
    {
     "data": {
      "text/plain": [
       "array([[974, 108, 118],\n",
       "       [124, 874, 202],\n",
       "       [143, 187, 870]])"
      ]
     },
     "execution_count": 69,
     "metadata": {},
     "output_type": "execute_result"
    }
   ],
   "source": [
    "from sklearn.metrics import confusion_matrix\n",
    "confusion_matrix(y, clf.predict(X))"
   ]
  },
  {
   "cell_type": "code",
   "execution_count": 76,
   "id": "b8449294",
   "metadata": {},
   "outputs": [],
   "source": [
    "score = clf.score(X_val, y_val)"
   ]
  },
  {
   "cell_type": "code",
   "execution_count": 77,
   "id": "58b37ed4",
   "metadata": {},
   "outputs": [
    {
     "data": {
      "text/plain": [
       "0.7592592592592593"
      ]
     },
     "execution_count": 77,
     "metadata": {},
     "output_type": "execute_result"
    }
   ],
   "source": [
    "score"
   ]
  },
  {
   "cell_type": "code",
   "execution_count": null,
   "id": "c6c3db73",
   "metadata": {},
   "outputs": [],
   "source": []
  }
 ],
 "metadata": {
  "kernelspec": {
   "display_name": "Python 3 (ipykernel)",
   "language": "python",
   "name": "python3"
  },
  "language_info": {
   "codemirror_mode": {
    "name": "ipython",
    "version": 3
   },
   "file_extension": ".py",
   "mimetype": "text/x-python",
   "name": "python",
   "nbconvert_exporter": "python",
   "pygments_lexer": "ipython3",
   "version": "3.9.7"
  }
 },
 "nbformat": 4,
 "nbformat_minor": 5
}
